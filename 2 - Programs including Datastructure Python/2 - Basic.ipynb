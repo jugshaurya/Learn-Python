{
 "cells": [
  {
   "cell_type": "markdown",
   "metadata": {},
   "source": [
    "# Number is Prime # O(n)\n"
   ]
  },
  {
   "cell_type": "code",
   "execution_count": 8,
   "metadata": {},
   "outputs": [
    {
     "name": "stdout",
     "output_type": "stream",
     "text": [
      "11\n",
      "Prime\n"
     ]
    }
   ],
   "source": [
    "n = int(input())\n",
    "\n",
    "for i in range(2,n):\n",
    "    if n%i==0:\n",
    "        print('Not Prime')\n",
    "        break\n",
    "else: # will run only if for loop runs completely no breakage in b/w\n",
    "    print('Prime')"
   ]
  },
  {
   "cell_type": "markdown",
   "metadata": {},
   "source": [
    "# O(n^(1/2))\n"
   ]
  },
  {
   "cell_type": "code",
   "execution_count": 3,
   "metadata": {},
   "outputs": [
    {
     "name": "stdout",
     "output_type": "stream",
     "text": [
      "11\n",
      "Prime\n"
     ]
    }
   ],
   "source": [
    "n = int(input())\n",
    "import math\n",
    "\n",
    "x = int(math.sqrt(n)+1)\n",
    "for i in range(2,x):\n",
    "    if n%i==0:\n",
    "        print('Not Prime')\n",
    "        break\n",
    "else: \n",
    "    print('Prime')"
   ]
  },
  {
   "cell_type": "code",
   "execution_count": 10,
   "metadata": {},
   "outputs": [
    {
     "name": "stdout",
     "output_type": "stream",
     "text": [
      "0\n",
      "100\n",
      "20\n",
      "0\t-17\n",
      "20\t-6\n",
      "40\t4\n",
      "60\t15\n",
      "80\t26\n",
      "100\t37\n"
     ]
    }
   ],
   "source": [
    "# F to Celcius\n",
    "\n",
    "s = int(input())\n",
    "e = int(input())\n",
    "step = int(input())\n",
    "while s<=e:\n",
    "    result = int((5/9) *(s-32))\n",
    "    print(s,result,sep='\\t')\n",
    "    s+=step"
   ]
  },
  {
   "cell_type": "markdown",
   "metadata": {},
   "source": [
    "### Fibonacci Member\n",
    "Given a number N, figure out if it is a member of fibonacci series or not. Return true if the number is member of fibonacci series else false."
   ]
  },
  {
   "cell_type": "code",
   "execution_count": 2,
   "metadata": {},
   "outputs": [
    {
     "name": "stdout",
     "output_type": "stream",
     "text": [
      "11\n",
      "false\n"
     ]
    }
   ],
   "source": [
    "n = int(input())\n",
    "\n",
    "def isMember(n):\n",
    "    if n==0 or n==1:\n",
    "        return True\n",
    "    a = 1 \n",
    "    b = 1\n",
    "    \n",
    "    while(a<=n):\n",
    "        mid = a + b\n",
    "        a = b\n",
    "        b = mid\n",
    "        if mid == n:\n",
    "            return True\n",
    "    else:\n",
    "        return False\n",
    "\n",
    "if isMember(n):\n",
    "    print('true')\n",
    "else:\n",
    "    print('false')"
   ]
  },
  {
   "cell_type": "markdown",
   "metadata": {},
   "source": [
    "# Palindrome\n",
    "Write a program to determine if given number is palindrome or not. Print true if it is palindrome, false otherwise."
   ]
  },
  {
   "cell_type": "code",
   "execution_count": 5,
   "metadata": {},
   "outputs": [
    {
     "name": "stdout",
     "output_type": "stream",
     "text": [
      "12321\n",
      "true\n"
     ]
    }
   ],
   "source": [
    "n = input()\n",
    "def isPalindrome(n):\n",
    "    rev = n[::-1] \n",
    "    if rev == n:\n",
    "        return True\n",
    "    else:\n",
    "        return False\n",
    "    \n",
    "if isPalindrome(n):\n",
    "    print('true')\n",
    "else:\n",
    "    print('false')"
   ]
  },
  {
   "cell_type": "markdown",
   "metadata": {},
   "source": [
    "### Check Armstrong\n",
    "Write a Program to determine if the given number is Armstrong number or not. Print true if number is armstrong, otherwise print false.\n",
    "- An Armstrong number is a number (with digits n) such that the sum of its digits raised to nth power is equal to the number itself."
   ]
  },
  {
   "cell_type": "code",
   "execution_count": 10,
   "metadata": {},
   "outputs": [
    {
     "name": "stdout",
     "output_type": "stream",
     "text": [
      "371\n",
      "true\n"
     ]
    }
   ],
   "source": [
    "num = int(input())\n",
    "\n",
    "def isArm(num):\n",
    "    # digit count -  finding n\n",
    "    temp = num\n",
    "    digit_count = 0\n",
    "    while(temp>0):\n",
    "        digit_count += 1\n",
    "        temp //= 10\n",
    "    \n",
    "    # raising each digit to nth power and adding them\n",
    "    temp = num\n",
    "    summ = 0\n",
    "    while temp>0:\n",
    "        digit = temp%10\n",
    "        summ += digit**digit_count\n",
    "        temp //= 10\n",
    "    \n",
    "    # comaring and returning\n",
    "    return summ == num\n",
    "    \n",
    "if isArm(num):\n",
    "    print('true')\n",
    "else:\n",
    "    print('false')"
   ]
  },
  {
   "cell_type": "code",
   "execution_count": 102,
   "metadata": {},
   "outputs": [
    {
     "name": "stdout",
     "output_type": "stream",
     "text": [
      "5\n",
      "1\n",
      "2\n",
      "3\n",
      "4\n",
      "5\n",
      "['1', '2', '3', '4', '5']\n"
     ]
    }
   ],
   "source": [
    "# line seperated input\n",
    "n = int(input())\n",
    "li = []\n",
    "for i in range(n):\n",
    "    li.append(input())\n",
    "print(li)"
   ]
  },
  {
   "cell_type": "code",
   "execution_count": 107,
   "metadata": {},
   "outputs": [
    {
     "name": "stdout",
     "output_type": "stream",
     "text": [
      "5\n",
      "1 2 35 7 67\n"
     ]
    },
    {
     "data": {
      "text/plain": [
       "['1', '2', '35', '7', '67']"
      ]
     },
     "execution_count": 107,
     "metadata": {},
     "output_type": "execute_result"
    }
   ],
   "source": [
    "# space sepearated input\n",
    "n = int(input())\n",
    "li = [x for x in input().split()]\n",
    "li"
   ]
  },
  {
   "cell_type": "markdown",
   "metadata": {},
   "source": [
    "# Linear Search"
   ]
  },
  {
   "cell_type": "code",
   "execution_count": 154,
   "metadata": {},
   "outputs": [
    {
     "name": "stdout",
     "output_type": "stream",
     "text": [
      "5\n",
      "3 4 7 2 1\n",
      "4\n",
      "Element Found\n"
     ]
    }
   ],
   "source": [
    "n = int(input())\n",
    "l = [int(x) for x in input().split()]\n",
    "element_to_search = int(input())\n",
    "\n",
    "def linearSearch(l,ele):\n",
    "    for i in l:\n",
    "        if i == ele:\n",
    "            return True\n",
    "    else:\n",
    "        return False\n",
    "\n",
    "if linearSearch(l,element_to_search):\n",
    "    print('Element Found')\n",
    "else:\n",
    "    print('Element Not Found')"
   ]
  },
  {
   "cell_type": "markdown",
   "metadata": {},
   "source": [
    "# Reverse a list"
   ]
  },
  {
   "cell_type": "code",
   "execution_count": 158,
   "metadata": {},
   "outputs": [
    {
     "name": "stdout",
     "output_type": "stream",
     "text": [
      "[8, 7, 6, 5, 4, 3, 2, 1]\n"
     ]
    }
   ],
   "source": [
    "def rev(li):\n",
    "    for i in range(len(li)//2):\n",
    "        li[i],li[-i-1] = li[-i-1],li[i]\n",
    "        \n",
    "        \n",
    "li = [1,2,3,4,5,6,7,8]\n",
    "rev(li)\n",
    "print(li)"
   ]
  },
  {
   "cell_type": "markdown",
   "metadata": {},
   "source": [
    "## Swap Alternate\n",
    "Given an array of length N, swap every pair of alternate elements in the array.\n",
    "\n"
   ]
  },
  {
   "cell_type": "code",
   "execution_count": 179,
   "metadata": {},
   "outputs": [
    {
     "name": "stdout",
     "output_type": "stream",
     "text": [
      "[2, 1, 4, 3, 6]\n",
      "2 1 4 3 6\n",
      "[3, 2, 6, 5, 8, 7]\n",
      "3 2 6 5 8 7\n"
     ]
    }
   ],
   "source": [
    "li = [1,2,3,4,6]\n",
    "li2 = [2,3,5,6,7,8]\n",
    "\n",
    "def swap_alternate(li):\n",
    "    for i in range(1,len(li),2):\n",
    "        li[i],li[i-1] = li[i-1],li[i]\n",
    "\n",
    "swap_alternate(li)\n",
    "swap_alternate(li2)\n",
    "\n",
    "print(li)\n",
    "print(*li)# * use to unzip things with print function only\n",
    "\n",
    "print(li2)\n",
    "print(*li2)"
   ]
  },
  {
   "cell_type": "code",
   "execution_count": 178,
   "metadata": {},
   "outputs": [
    {
     "ename": "SyntaxError",
     "evalue": "can't use starred expression here (cell_name, line 4)",
     "output_type": "error",
     "traceback": [
      "\u001b[1;36m  File \u001b[1;32m\"cell_name\"\u001b[1;36m, line \u001b[1;32m4\u001b[0m\n\u001b[1;31mSyntaxError\u001b[0m\u001b[1;31m:\u001b[0m can't use starred expression here\n"
     ]
    }
   ],
   "source": [
    "*[1,2,3] # see withour print function"
   ]
  },
  {
   "cell_type": "code",
   "execution_count": 180,
   "metadata": {},
   "outputs": [
    {
     "name": "stdout",
     "output_type": "stream",
     "text": [
      "12 3 4\n"
     ]
    }
   ],
   "source": [
    "print(*[12,3,4])"
   ]
  },
  {
   "cell_type": "code",
   "execution_count": 181,
   "metadata": {},
   "outputs": [
    {
     "name": "stdout",
     "output_type": "stream",
     "text": [
      "1 2 3 4\n"
     ]
    }
   ],
   "source": [
    "print(*(1,2,3,4))"
   ]
  },
  {
   "cell_type": "code",
   "execution_count": 182,
   "metadata": {},
   "outputs": [
    {
     "name": "stdout",
     "output_type": "stream",
     "text": [
      "1 2 3 4 5 6 7\n"
     ]
    }
   ],
   "source": [
    "print(*{1,2,3,5,7,6,4,3,2,1})"
   ]
  },
  {
   "cell_type": "code",
   "execution_count": 183,
   "metadata": {},
   "outputs": [
    {
     "name": "stdout",
     "output_type": "stream",
     "text": [
      "1 2\n"
     ]
    }
   ],
   "source": [
    "print(*{1:'a', 2:'rt'})"
   ]
  },
  {
   "cell_type": "markdown",
   "metadata": {},
   "source": [
    "### Find Unique(using Xor , using frequency array,using dictionary)\n",
    "In array, N numbers are present twice and one number is present only once in the array. find that single"
   ]
  },
  {
   "cell_type": "code",
   "execution_count": 189,
   "metadata": {},
   "outputs": [
    {
     "name": "stdout",
     "output_type": "stream",
     "text": [
      "10\n"
     ]
    }
   ],
   "source": [
    "# using Xor\n",
    "li = [10,2,2,1,1,6,6,8,4,4,8]\n",
    "Xor = 0\n",
    "for i in li:\n",
    "    Xor ^= i\n",
    "print(Xor)"
   ]
  },
  {
   "cell_type": "code",
   "execution_count": 203,
   "metadata": {},
   "outputs": [
    {
     "name": "stdout",
     "output_type": "stream",
     "text": [
      "[10, 2, 1, 6, 8, 4]\n",
      "[1, 2, 2, 2, 2, 2]\n",
      "Unique Elements :  10\n"
     ]
    }
   ],
   "source": [
    "# using frequency array\n",
    "li = [10,2,2,1,1,6,6,8,4,4,8]\n",
    "ele_list = [] \n",
    "count_list = []\n",
    "\n",
    "for i in li:\n",
    "    if i in ele_list:\n",
    "        index = ele_list.index(i)\n",
    "        count_list[index]+=1\n",
    "    else:\n",
    "        ele_list.append(i)\n",
    "        count_list.append(1)\n",
    "        \n",
    "print(ele_list)\n",
    "print(count_list)\n",
    "\n",
    "\n",
    "length = len(count_list)\n",
    "for i in range(length):\n",
    "    if  count_list[i] == 1:\n",
    "        print('Unique Elements : ', ele_list[i])\n",
    "        break\n",
    "    "
   ]
  },
  {
   "cell_type": "code",
   "execution_count": 205,
   "metadata": {},
   "outputs": [
    {
     "name": "stdout",
     "output_type": "stream",
     "text": [
      "dictionary :  {10: 1, 2: 2, 1: 2, 6: 2, 8: 2, 4: 2}\n",
      "Unique Element :  10\n"
     ]
    }
   ],
   "source": [
    "# using dictionary\n",
    "li = [10,2,2,1,1,6,6,8,4,4,8]\n",
    "d = {}\n",
    "for i in li:\n",
    "    count_i = d.get(i,0) # returns 0 if not found\n",
    "    if count_i == 0:\n",
    "        d[i] = 1\n",
    "    else:\n",
    "        d[i] = count_i + 1\n",
    "print('dictionary : ' ,d)\n",
    "for i,j in d.items():\n",
    "    if j == 1:\n",
    "        print('Unique Element : ' , i)\n",
    "        "
   ]
  },
  {
   "cell_type": "code",
   "execution_count": null,
   "metadata": {},
   "outputs": [],
   "source": []
  },
  {
   "cell_type": "markdown",
   "metadata": {},
   "source": [
    "#### Array intersection\n",
    "Given two random integer arrays of size m and n, print their intersection. That is, print all the elements that are present in both the given arrays"
   ]
  },
  {
   "cell_type": "code",
   "execution_count": 3,
   "metadata": {},
   "outputs": [
    {
     "name": "stdout",
     "output_type": "stream",
     "text": [
      "2\n",
      "3\n",
      "4\n"
     ]
    }
   ],
   "source": [
    "## Read input as specified in the question.\n",
    "## Print output as specified in the question.\n",
    "l1 =  [1,2,3,4]\n",
    "l2 = [2,3,4,5]\n",
    "for i in range(len(l1)):\n",
    "    for j in range(len(l2)):\n",
    "        if l1[i] == l2[j]:\n",
    "            print(l1[i])\n",
    "            l2[j] = -9999\n",
    "            break\n"
   ]
  },
  {
   "cell_type": "markdown",
   "metadata": {},
   "source": [
    "#### Pair sum\n",
    "Given a random integer array A and a number x. Find and print the pair of elements in the array which sum to x.\n",
    "Array A can contain duplicate elements.\n",
    "- While printing a pair, print the smaller element first. That is, if a valid pair is (6, 5) print \"5 6\"."
   ]
  },
  {
   "cell_type": "code",
   "execution_count": 11,
   "metadata": {},
   "outputs": [
    {
     "name": "stdout",
     "output_type": "stream",
     "text": [
      "1 6\n",
      "3 4\n",
      "3 4\n",
      "2 5\n",
      "2 5\n",
      "3 4\n",
      "3 4\n"
     ]
    }
   ],
   "source": [
    "li = [1, 3, 6, 2, 5, 4, 3, 2, 4]\n",
    "for i in range(len(li)):\n",
    "    for j in range(i+1,len(li)):\n",
    "        if li[i] + li[j] == summ :\n",
    "            if li[i]<=li[j]:\n",
    "                print(li[i],li[j])\n",
    "            else:\n",
    "                print(li[j],li[i])"
   ]
  },
  {
   "cell_type": "markdown",
   "metadata": {},
   "source": [
    "### Triplet Sum\n",
    "Given a random integer array and a number x. Find and print the triplets of elements in the array which sum to x.\n",
    "- While printing a triplet, print the smallest element first.\n",
    "That is, if a valid triplet is (6, 5, 10) print \"5 6 10\". There is no constraint that out of 5 triplets which have to be printed on 1st line."
   ]
  },
  {
   "cell_type": "code",
   "execution_count": 16,
   "metadata": {},
   "outputs": [
    {
     "name": "stdout",
     "output_type": "stream",
     "text": [
      "7\n",
      "1 2 3 4 5 6 7\n",
      "12\n",
      "1 4 7 \n",
      "1 5 6 \n",
      "2 3 7 \n",
      "2 4 6 \n",
      "3 4 5 \n"
     ]
    }
   ],
   "source": [
    "n = int(input())\n",
    "li = [int(x) for x in input().split()]\n",
    "summ = int(input())\n",
    "\n",
    "for i in range(len(li)):\n",
    "    for j in range(i+1, len(li)):\n",
    "        for k in range(j+1, len(li)):\n",
    "            if li[i] + li[j] + li[k] == summ:\n",
    "                temp = []\n",
    "                temp.append(li[i])\n",
    "                temp.append(li[j])\n",
    "                temp.append(li[k])\n",
    "                temp = sorted(temp)\n",
    "                for alpha in temp:\n",
    "                    print(alpha,end=' ')\n",
    "                print()"
   ]
  },
  {
   "cell_type": "markdown",
   "metadata": {},
   "source": [
    "#### Sort 0 1\n",
    "You are given an integer array A that contains only integers 0 and 1. Write a function to sort this array. Find a solution which scans the array only once. Don't use extra array.\n"
   ]
  },
  {
   "cell_type": "code",
   "execution_count": 18,
   "metadata": {},
   "outputs": [
    {
     "name": "stdout",
     "output_type": "stream",
     "text": [
      "7\n",
      "0 1 0 1 1 0 1\n",
      "0 0 0 1 1 1 1 \n"
     ]
    }
   ],
   "source": [
    "n = int(input())\n",
    "li = [int(x) for x in input().split()]\n",
    "\n",
    "zero_count = 0\n",
    "ones_count = 0\n",
    "\n",
    "for ele in li:\n",
    "    if ele == 0:\n",
    "        zero_count+=1\n",
    "    else:\n",
    "        ones_count+=1\n",
    "\n",
    "print('0 '*zero_count,end='')\n",
    "print('1 '*ones_count)\n"
   ]
  },
  {
   "cell_type": "code",
   "execution_count": null,
   "metadata": {},
   "outputs": [],
   "source": []
  },
  {
   "cell_type": "code",
   "execution_count": 10,
   "metadata": {},
   "outputs": [],
   "source": [
    "# Searching and Sorting"
   ]
  },
  {
   "cell_type": "markdown",
   "metadata": {},
   "source": [
    "# Binary Search"
   ]
  },
  {
   "cell_type": "code",
   "execution_count": 12,
   "metadata": {},
   "outputs": [
    {
     "name": "stdout",
     "output_type": "stream",
     "text": [
      "5\n",
      "1 2 3 4 5\n",
      "1\n",
      "0\n"
     ]
    }
   ],
   "source": [
    "n = int(input())\n",
    "sorted_arr = [int(x) for x in input().split()]\n",
    "x = int(input())\n",
    "\n",
    "start = 0\n",
    "end = n - 1\n",
    "while start <= end :\n",
    "    mid = (start + end) // 2\n",
    "    if sorted_arr[mid] == x :\n",
    "        print(mid)\n",
    "        break\n",
    "    elif sorted_arr[mid] < x :\n",
    "        # search Right\n",
    "        start = mid + 1\n",
    "    else:\n",
    "         # search Left\n",
    "        end = mid - 1 \n",
    "else: \n",
    "    print(-1)"
   ]
  },
  {
   "cell_type": "markdown",
   "metadata": {},
   "source": [
    "# Selection Sort"
   ]
  },
  {
   "cell_type": "code",
   "execution_count": 28,
   "metadata": {},
   "outputs": [
    {
     "name": "stdout",
     "output_type": "stream",
     "text": [
      "5 4 3 21\n",
      "ans :  3 4 5 21\n"
     ]
    }
   ],
   "source": [
    "arr = [int(x) for x in input().split()]\n",
    "\n",
    "n = len(arr)\n",
    "for i in range(n):\n",
    "    mini = 999999\n",
    "    min_index = 0\n",
    "    for j in range(i, n):\n",
    "        if arr[j] < mini:\n",
    "            mini = arr[j]\n",
    "            min_index = j\n",
    "    arr[min_index], arr[i] = arr[i] , arr[min_index]\n",
    "\n",
    "print('ans : ' , *arr)"
   ]
  },
  {
   "cell_type": "markdown",
   "metadata": {},
   "source": [
    "# Bubble Sort"
   ]
  },
  {
   "cell_type": "code",
   "execution_count": 29,
   "metadata": {},
   "outputs": [
    {
     "name": "stdout",
     "output_type": "stream",
     "text": [
      "5 4 3 2 1\n",
      "ans :  1 2 3 4 5\n"
     ]
    }
   ],
   "source": [
    "arr = [int(x) for x in input().split()]\n",
    "n = len(arr)\n",
    "\n",
    "for i in range(n):\n",
    "    maxi = -99999\n",
    "    maxi_index = -1\n",
    "    for j in range(n-i) :\n",
    "        if arr[j] > maxi :\n",
    "            maxi = arr[j]\n",
    "            maxi_index = j\n",
    "    arr[n-i-1], arr[maxi_index] = arr[maxi_index] , arr[n-i-1]\n",
    "\n",
    "print('ans : ' , *arr)"
   ]
  },
  {
   "cell_type": "code",
   "execution_count": null,
   "metadata": {},
   "outputs": [],
   "source": []
  },
  {
   "cell_type": "markdown",
   "metadata": {},
   "source": [
    "# Insertion Sort"
   ]
  },
  {
   "cell_type": "code",
   "execution_count": 55,
   "metadata": {},
   "outputs": [
    {
     "name": "stdout",
     "output_type": "stream",
     "text": [
      "5 4 3 2 1 0 -1 -1\n",
      "ans :  -1 -1 0 1 2 3 4 5\n"
     ]
    }
   ],
   "source": [
    "arr = [int(x) for x in input().split()]\n",
    "n = len(arr)\n",
    "\n",
    "for i in range(1,n):\n",
    "    curr_i = i \n",
    "    for j in range(i-1, -1, -1) :\n",
    "        if arr[curr_i] < arr[j]:\n",
    "            arr[curr_i], arr[j] = arr[j], arr[curr_i]\n",
    "            curr_i = j\n",
    "        else:\n",
    "            break\n",
    "        \n",
    "print('ans : ' , *arr)"
   ]
  },
  {
   "cell_type": "code",
   "execution_count": null,
   "metadata": {},
   "outputs": [],
   "source": []
  },
  {
   "cell_type": "markdown",
   "metadata": {},
   "source": [
    "# Merge two sorted Arrays"
   ]
  },
  {
   "cell_type": "code",
   "execution_count": 58,
   "metadata": {},
   "outputs": [],
   "source": [
    "def merge(arr1, arr2):\n",
    "    \n",
    "    l1, l2 = len(arr1), len(arr2)\n",
    "    i, j = 0, 0\n",
    "    \n",
    "    arr = []\n",
    "    while(i<l1 and j<l2):\n",
    "        if arr1[i] < arr2[j]:\n",
    "            arr.append(arr1[i])\n",
    "            i+=1\n",
    "        else:\n",
    "            arr.append(arr2[j]) \n",
    "            j+=1\n",
    "    \n",
    "    while(i<l1):\n",
    "        arr.append(arr1[i])\n",
    "        i+=1\n",
    "        \n",
    "    while(j<l2):\n",
    "        arr.append(arr2[j])\n",
    "        j+=1\n",
    "        \n",
    "    return arr\n",
    "        "
   ]
  },
  {
   "cell_type": "code",
   "execution_count": 60,
   "metadata": {},
   "outputs": [
    {
     "name": "stdout",
     "output_type": "stream",
     "text": [
      "5 6 8 \n",
      "2 7 11\n"
     ]
    },
    {
     "data": {
      "text/plain": [
       "[2, 5, 6, 7, 8, 11]"
      ]
     },
     "execution_count": 60,
     "metadata": {},
     "output_type": "execute_result"
    }
   ],
   "source": [
    "arr1 = [int(x) for x in input().split()]\n",
    "arr2 = [int(x) for x in input().split()]\n",
    "merge(arr1,arr2)"
   ]
  },
  {
   "cell_type": "markdown",
   "metadata": {},
   "source": [
    "# Second Largest in array"
   ]
  },
  {
   "cell_type": "code",
   "execution_count": 63,
   "metadata": {},
   "outputs": [
    {
     "data": {
      "text/plain": [
       "3"
      ]
     },
     "execution_count": 63,
     "metadata": {},
     "output_type": "execute_result"
    }
   ],
   "source": [
    "def second_largest(arr):\n",
    "    \n",
    "    maxi = -999\n",
    "    for i in arr:\n",
    "        if i>maxi:\n",
    "            maxi = i\n",
    "    second_maxi = -999\n",
    "    for i in arr:\n",
    "        if i!=maxi and i>second_maxi:\n",
    "            second_maxi = i\n",
    "    return second_maxi\n",
    "\n",
    "arr = [1,2,3,4]\n",
    "second_largest(arr)"
   ]
  },
  {
   "cell_type": "markdown",
   "metadata": {},
   "source": [
    "# Check array rotation\n",
    "Given an integer array, which is sorted (in increasing order) and has been rotated by some number k in clockwise direction. Find and return the k."
   ]
  },
  {
   "cell_type": "code",
   "execution_count": 65,
   "metadata": {},
   "outputs": [
    {
     "name": "stdout",
     "output_type": "stream",
     "text": [
      "5\n",
      "1 2 3 0 0\n",
      "3\n"
     ]
    }
   ],
   "source": [
    "def returnK(arr):\n",
    "    for i in range(len(arr)-1):\n",
    "        if arr[i] >arr[i+1]:\n",
    "            return i+1\n",
    "    \n",
    "n = input()\n",
    "arr = [int(x) for x in input().split()]\n",
    "print(returnK(arr))"
   ]
  },
  {
   "cell_type": "markdown",
   "metadata": {},
   "source": [
    "## Sort 0 1 2\n",
    "You are given an integer array containing only 0s, 1s and 2s. Write a solution to sort this array using one scan only.\n"
   ]
  },
  {
   "cell_type": "code",
   "execution_count": 70,
   "metadata": {},
   "outputs": [
    {
     "name": "stdout",
     "output_type": "stream",
     "text": [
      "0 0 1 1 1 1 2 2 "
     ]
    }
   ],
   "source": [
    "def sort012(arr):\n",
    "    zeros_count = 0\n",
    "    ones_count = 0\n",
    "    twos_count = 0\n",
    "\n",
    "    for i in arr:\n",
    "        if i == 0 :\n",
    "            zeros_count+=1\n",
    "        if i == 1 :\n",
    "            ones_count+=1\n",
    "        if i == 2 :\n",
    "            twos_count+=1\n",
    "    \n",
    "    print('0 '*zeros_count,end='')\n",
    "    print('1 '*ones_count,end='')    \n",
    "    print('2 '*twos_count,end='')    \n",
    "    \n",
    "sort012([1,2,2,1,1,1,0,0])"
   ]
  },
  {
   "cell_type": "markdown",
   "metadata": {},
   "source": [
    "## Sum of two arrays\n",
    "Two random integer arrays are given A1 and A2, in which numbers from 0 to 9 are present at every index (i.e. single digit integer is present at every index of both given arrays).\n",
    "\n",
    "- You need to find sum of both the input arrays (like we add two integers) and put the result in another array i.e. output array (output arrays should also contain only single digits at every index).\n",
    "- The size A1 & A2 can be different.\n",
    "- Note : Output array size should be 1 more than the size of bigger array and place 0 at the 0th index if there is no carry. No need to print the elements of output array."
   ]
  },
  {
   "cell_type": "code",
   "execution_count": 3,
   "metadata": {},
   "outputs": [
    {
     "name": "stdout",
     "output_type": "stream",
     "text": [
      "1 0 0 0 0 9 8\n"
     ]
    }
   ],
   "source": [
    "def sumArray(arr1,arr2):\n",
    "    \n",
    "    ans = [] \n",
    "    i = len(arr1) - 1\n",
    "    j = len(arr2) - 1    \n",
    "\n",
    "    carry = 0\n",
    "    while i>=0 and j>=0 :\n",
    "        summ = arr1[i] + arr2[j] + carry\n",
    "        rem = summ % 10\n",
    "        carry = summ // 10\n",
    "        ans.append(rem)\n",
    "        i -= 1\n",
    "        j -= 1\n",
    "    \n",
    "    while i>=0 :\n",
    "        summ = arr1[i] + carry\n",
    "        rem = summ % 10\n",
    "        carry = summ // 10\n",
    "        ans.append(rem)\n",
    "        i -= 1\n",
    "        \n",
    "    while j>=0 :\n",
    "        summ = arr2[j] + carry\n",
    "        rem = summ % 10\n",
    "        carry = summ // 10\n",
    "        ans.append(rem)\n",
    "        j -= 1\n",
    "    \n",
    "    ans.append(0 + carry)\n",
    "    print(*ans[::-1])\n",
    "    \n",
    "sumArray([9,9,9,9,9,9],[9,9])    "
   ]
  },
  {
   "cell_type": "markdown",
   "metadata": {},
   "source": [
    "# Check Permutation"
   ]
  },
  {
   "cell_type": "code",
   "execution_count": 17,
   "metadata": {},
   "outputs": [
    {
     "name": "stdout",
     "output_type": "stream",
     "text": [
      "shaurya\n",
      "ayraush\n",
      "true\n"
     ]
    }
   ],
   "source": [
    "## Read input as specified in the question.\n",
    "## Print output as specified in the question.\n",
    "s1 = input()\n",
    "s2 = input()\n",
    "\n",
    "if sorted(s1)==sorted(s2):\n",
    "    print('true')\n",
    "else:\n",
    "    print('false')"
   ]
  },
  {
   "cell_type": "markdown",
   "metadata": {},
   "source": [
    "### Remove Consecutive Duplicates\n",
    "\n",
    "\n",
    "Given a string, remove all the consecutive duplicates that are present in the given string. That means, if 'aaa' is present in the string then it should become 'a' in the output string."
   ]
  },
  {
   "cell_type": "code",
   "execution_count": 33,
   "metadata": {},
   "outputs": [],
   "source": [
    "def remove_cons_dupl(string):\n",
    "    ans = ''\n",
    "    for i in range(len(string)-1):\n",
    "        if string[i] == string[i+1]:\n",
    "            continue\n",
    "        else:\n",
    "            ans = ans + string[i]\n",
    "            \n",
    "    ans += string[-1]\n",
    "    return ans"
   ]
  },
  {
   "cell_type": "code",
   "execution_count": 34,
   "metadata": {},
   "outputs": [
    {
     "data": {
      "text/plain": [
       "'abc'"
      ]
     },
     "execution_count": 34,
     "metadata": {},
     "output_type": "execute_result"
    }
   ],
   "source": [
    "result = remove_cons_dupl('aabbcccc')\n",
    "result"
   ]
  },
  {
   "cell_type": "markdown",
   "metadata": {},
   "source": [
    "### Reverse Each Word\n",
    "Given a string S, reverse each word of a string individually. For eg. if a string is \"abc def\", reversed string should be \"cba fed\"."
   ]
  },
  {
   "cell_type": "code",
   "execution_count": 36,
   "metadata": {},
   "outputs": [
    {
     "name": "stdout",
     "output_type": "stream",
     "text": [
      "i am reverse string\n",
      "i ma esrever gnirts "
     ]
    }
   ],
   "source": [
    "arr = [x for x in input().split()]\n",
    "for word in arr:\n",
    "    print(word[::-1],end=' ')"
   ]
  },
  {
   "cell_type": "markdown",
   "metadata": {},
   "source": [
    "### Remove character\n",
    "\n",
    "- Given a string and a character x. Write a function to remove all occurrences of x character from the given string.\n"
   ]
  },
  {
   "cell_type": "code",
   "execution_count": 40,
   "metadata": {},
   "outputs": [
    {
     "name": "stdout",
     "output_type": "stream",
     "text": [
      "shaurya\n",
      "a\n",
      "shury\n"
     ]
    }
   ],
   "source": [
    "def removeX(string,x):\n",
    "    ans = ''\n",
    "    for i in string:\n",
    "        if i != x:\n",
    "            ans += i\n",
    "    return ans\n",
    "\n",
    "string = input()\n",
    "x = input()\n",
    "print(removeX(string,x))"
   ]
  },
  {
   "cell_type": "markdown",
   "metadata": {},
   "source": [
    "### Highest Occuring Character\n",
    "\n",
    "Given a string, find and return the highest occurring character present in the given string.\n",
    "- If there are 2 characters in the input string with same frequency, return the character which comes first.\n"
   ]
  },
  {
   "cell_type": "code",
   "execution_count": 55,
   "metadata": {},
   "outputs": [
    {
     "name": "stdout",
     "output_type": "stream",
     "text": [
      "a\n"
     ]
    }
   ],
   "source": [
    "def highest_char_firstAvailable(string):\n",
    "    \n",
    "    # storing frequency\n",
    "    d = {}\n",
    "    for i in string:\n",
    "        if i in d:\n",
    "            d[i] += 1\n",
    "        else:\n",
    "            d[i] = 1\n",
    "\n",
    "    \n",
    "    # finding max frequency\n",
    "    max_frequency = -1\n",
    "    for freq in d.values():\n",
    "        if freq > max_frequency:\n",
    "            max_frequency = freq\n",
    "    \n",
    "    # finding first character with max-frequency\n",
    "    for i in string:\n",
    "        if d[i] == max_frequency:\n",
    "            return i\n",
    "        \n",
    "ans = highest_char_firstAvailable('aabbcc')          \n",
    "print(ans)"
   ]
  },
  {
   "cell_type": "markdown",
   "metadata": {},
   "source": [
    "### Compress the String\n",
    "\n",
    "- Write a program to do basic string compression. For a character which is consecutively repeated more than once, replace consecutive duplicate occurrences with the count of repetitions.\n",
    "For e.g. if a String has 'x' repeated 5 times, replace this \"xxxxx\" with \"x5\".\n",
    "Note : Consecutive count of every character in input string is less than equal to 9.\n",
    "- if count is 1 print only the character xxab print x2ab not x2a1b1"
   ]
  },
  {
   "cell_type": "code",
   "execution_count": 75,
   "metadata": {},
   "outputs": [
    {
     "name": "stdout",
     "output_type": "stream",
     "text": [
      "a2b2c2def\n",
      "a2b2c2def5\n"
     ]
    }
   ],
   "source": [
    "def compress(string):\n",
    "    \n",
    "    count = 1\n",
    "    ans = ''\n",
    "    for i in range(len(string)-1):\n",
    "        if string[i] == string[i+1]:\n",
    "            count += 1\n",
    "        else:\n",
    "            if count != 1 :\n",
    "                ans += string[i] + str(count)\n",
    "                count = 1\n",
    "            else:\n",
    "                ans += string[i]\n",
    "\n",
    "    if count != 1:\n",
    "        ans += string[-1] + str(count)\n",
    "    else:\n",
    "        ans += string[-1]\n",
    "        \n",
    "    return ans\n",
    "\n",
    "print(compress('aabbccdef'))\n",
    "print(compress('aabbccdefffff'))"
   ]
  },
  {
   "cell_type": "code",
   "execution_count": 77,
   "metadata": {},
   "outputs": [],
   "source": [
    "# 2-D List Problems"
   ]
  },
  {
   "cell_type": "markdown",
   "metadata": {},
   "source": [
    "### Row Wise Sum\n",
    "\n",
    "Given a 2D integer array of size M*N, find and print the sum of every row elements separated by space.\n",
    "```\n",
    "Input Format :\n",
    "Line 1 : Two integers M and N (separated by space) \n",
    "Line 2 : Matrix elements (separated by space)\n",
    "```"
   ]
  },
  {
   "cell_type": "code",
   "execution_count": 84,
   "metadata": {},
   "outputs": [
    {
     "name": "stdout",
     "output_type": "stream",
     "text": [
      "3 3\n",
      "1 2 3 4 5 6 7 8 9\n",
      "[[1, 2, 3], [4, 5, 6], [7, 8, 9]]\n",
      "6 15 24 "
     ]
    }
   ],
   "source": [
    "def rowsum(l):\n",
    "    \n",
    "    for sublist in l:\n",
    "        summ = 0\n",
    "        for ele in sublist:\n",
    "            summ += ele\n",
    "        print(summ,end= ' ')\n",
    "        \n",
    "m,n = [int(x) for x in input().split()] # m X n matrix \n",
    "line = [int(x) for x in input().split()]\n",
    "l = [[(line[j+n*i]) for j in range(n)] for i in range(m)]\n",
    "print(l)\n",
    "rowsum(l)"
   ]
  },
  {
   "cell_type": "markdown",
   "metadata": {},
   "source": [
    "## Largest Row or Column\n",
    "\n",
    "Given an NxM 2D array, you need to find out which row or column has largest sum overall amongst all rows and columns.\n",
    "```\n",
    "Output Format :\n",
    " If row sum is maximum then print - \"row\" row_num max_sum\n",
    " If column sum is maximum then print - \"column\" col_num max_sum\n",
    "Note : If there are more than one rows/columns with maximum sum consider the row/column that comes first. And if ith row and jth column has same sum (which is largest), consider the ith row as answer.\n",
    "```"
   ]
  },
  {
   "cell_type": "code",
   "execution_count": 89,
   "metadata": {},
   "outputs": [
    {
     "name": "stdout",
     "output_type": "stream",
     "text": [
      "3 4\n",
      "1 2 34 5 6 7 8  4 3 1 1 2\n",
      "column 2 43\n"
     ]
    }
   ],
   "source": [
    "def max_row_col(l):\n",
    "    \n",
    "    max_row_sum = -999\n",
    "    max_row_index = -1\n",
    "    # max row sum\n",
    "    for i in range(len(l)):\n",
    "        summ = 0\n",
    "        \n",
    "        for ele in l[i] :\n",
    "            summ += ele\n",
    "            \n",
    "        if summ > max_row_sum:\n",
    "            max_row_sum = summ\n",
    "            max_row_index = i\n",
    "\n",
    "    \n",
    "    max_col_sum = -999\n",
    "    max_col_index = -1\n",
    "    # max col sum\n",
    "    for j in range(len(l[0])):\n",
    "        summ = 0\n",
    "        \n",
    "        for sublist in l :\n",
    "            summ += sublist[j]\n",
    "            \n",
    "        if summ > max_col_sum:\n",
    "            max_col_sum = summ\n",
    "            max_col_index = j\n",
    "           \n",
    "    if max_row_sum >= max_col_sum:\n",
    "        print('row',max_row_index,max_row_sum)\n",
    "    else:\n",
    "        print('column', max_col_index,max_col_sum)\n",
    "\n",
    "m,n = [int(x) for x in input().split()] # m X n matrix \n",
    "line = [int(x) for x in input().split()]\n",
    "l = [[(line[j+n*i]) for j in range(n)] for i in range(m)]\n",
    "max_row_col(l)        \n"
   ]
  },
  {
   "cell_type": "code",
   "execution_count": null,
   "metadata": {},
   "outputs": [],
   "source": []
  }
 ],
 "metadata": {
  "kernelspec": {
   "display_name": "Python 3",
   "language": "python",
   "name": "python3"
  },
  "language_info": {
   "codemirror_mode": {
    "name": "ipython",
    "version": 3
   },
   "file_extension": ".py",
   "mimetype": "text/x-python",
   "name": "python",
   "nbconvert_exporter": "python",
   "pygments_lexer": "ipython3",
   "version": "3.7.1"
  }
 },
 "nbformat": 4,
 "nbformat_minor": 2
}
