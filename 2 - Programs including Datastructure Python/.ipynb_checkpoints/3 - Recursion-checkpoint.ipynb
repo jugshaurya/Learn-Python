{
 "cells": [
  {
   "cell_type": "markdown",
   "metadata": {},
   "source": [
    "# Power "
   ]
  },
  {
   "cell_type": "code",
   "execution_count": 3,
   "metadata": {},
   "outputs": [
    {
     "name": "stdout",
     "output_type": "stream",
     "text": [
      "2 10\n",
      "1024\n"
     ]
    }
   ],
   "source": [
    "## Read input as specified in the question.\n",
    "## Print output as specified in the question.\n",
    "\n",
    "def power(x,n):\n",
    "    if n==0:\n",
    "        return 1\n",
    "    return x*power(x,n-1)\n",
    "\n",
    "import sys\n",
    "sys.setrecursionlimit(11000)\n",
    "\n",
    "x,n = [int(a) for a in input().split()]\n",
    "print(power(x,n))"
   ]
  },
  {
   "cell_type": "markdown",
   "metadata": {},
   "source": [
    "# N-natural Number print"
   ]
  },
  {
   "cell_type": "code",
   "execution_count": 6,
   "metadata": {},
   "outputs": [],
   "source": [
    "def printN(n):\n",
    "    if n==0:\n",
    "        return\n",
    "    \n",
    "    printN(n-1)\n",
    "    print(n,end=' ')"
   ]
  },
  {
   "cell_type": "code",
   "execution_count": 7,
   "metadata": {},
   "outputs": [
    {
     "name": "stdout",
     "output_type": "stream",
     "text": [
      "1 2 3 4 5 6 7 8 9 10 "
     ]
    }
   ],
   "source": [
    "printN(10)"
   ]
  },
  {
   "cell_type": "markdown",
   "metadata": {},
   "source": [
    "# Fibonacci Number"
   ]
  },
  {
   "cell_type": "code",
   "execution_count": 9,
   "metadata": {},
   "outputs": [],
   "source": [
    "def fib(n):\n",
    "    if n<0:\n",
    "        return None\n",
    "    \n",
    "    if n <=1:\n",
    "        return n\n",
    "    \n",
    "    return fib(n-1) + fib(n-2)"
   ]
  },
  {
   "cell_type": "code",
   "execution_count": 10,
   "metadata": {},
   "outputs": [
    {
     "name": "stdout",
     "output_type": "stream",
     "text": [
      "None\n",
      "0\n",
      "1\n",
      "1\n",
      "2\n",
      "3\n",
      "5\n",
      "8\n",
      "13\n",
      "21\n",
      "34\n",
      "55\n"
     ]
    }
   ],
   "source": [
    "print(fib(-1))\n",
    "print(fib(0))\n",
    "print(fib(1))\n",
    "print(fib(2))\n",
    "print(fib(3))\n",
    "print(fib(4))\n",
    "print(fib(5))\n",
    "print(fib(6))\n",
    "print(fib(7))\n",
    "print(fib(8))\n",
    "print(fib(9))\n",
    "print(fib(10))"
   ]
  },
  {
   "cell_type": "markdown",
   "metadata": {},
   "source": [
    "# Check List is Sorted or not"
   ]
  },
  {
   "cell_type": "code",
   "execution_count": 11,
   "metadata": {},
   "outputs": [],
   "source": [
    "def isSorted(l):\n",
    "    \n",
    "    if len(l) == 1:\n",
    "        return True\n",
    "    \n",
    "    if l[0] <l[1]:\n",
    "        return isSorted(l[1:])\n",
    "    else:\n",
    "        return False"
   ]
  },
  {
   "cell_type": "code",
   "execution_count": 12,
   "metadata": {},
   "outputs": [
    {
     "data": {
      "text/plain": [
       "True"
      ]
     },
     "execution_count": 12,
     "metadata": {},
     "output_type": "execute_result"
    }
   ],
   "source": [
    "isSorted([3,4,8,9])"
   ]
  },
  {
   "cell_type": "code",
   "execution_count": 13,
   "metadata": {},
   "outputs": [
    {
     "data": {
      "text/plain": [
       "False"
      ]
     },
     "execution_count": 13,
     "metadata": {},
     "output_type": "execute_result"
    }
   ],
   "source": [
    "isSorted([3,4,8,9,15,1])"
   ]
  },
  {
   "cell_type": "markdown",
   "metadata": {},
   "source": [
    "# Sum of Array"
   ]
  },
  {
   "cell_type": "code",
   "execution_count": 16,
   "metadata": {},
   "outputs": [
    {
     "name": "stdout",
     "output_type": "stream",
     "text": [
      "17\n"
     ]
    }
   ],
   "source": [
    "def sumArray(arr):\n",
    "    # Please add your code here\n",
    "    if len(arr) == 0:\n",
    "        return 0\n",
    "\n",
    "    return arr[0] + sumArray(arr[1:])\n",
    "\n",
    "\n",
    "print(sumArray([1,6,10]))\n"
   ]
  },
  {
   "cell_type": "markdown",
   "metadata": {},
   "source": [
    "## isPresent\n",
    "Given an array of length N and an integer x, you need to find if x is present in the array or not. Return true or false."
   ]
  },
  {
   "cell_type": "code",
   "execution_count": 19,
   "metadata": {},
   "outputs": [],
   "source": [
    "def isPresent(l,x):\n",
    "    if len(l) == 0:\n",
    "        return False\n",
    "    \n",
    "    if l[0] == x:\n",
    "        return True\n",
    "    \n",
    "    return isPresent(l[1:], x)"
   ]
  },
  {
   "cell_type": "code",
   "execution_count": 20,
   "metadata": {},
   "outputs": [
    {
     "data": {
      "text/plain": [
       "True"
      ]
     },
     "execution_count": 20,
     "metadata": {},
     "output_type": "execute_result"
    }
   ],
   "source": [
    "isPresent([1,2,3,4,5],5)"
   ]
  },
  {
   "cell_type": "code",
   "execution_count": 21,
   "metadata": {},
   "outputs": [
    {
     "data": {
      "text/plain": [
       "False"
      ]
     },
     "execution_count": 21,
     "metadata": {},
     "output_type": "execute_result"
    }
   ],
   "source": [
    "isPresent([1,2,3,4,5],15)"
   ]
  },
  {
   "cell_type": "markdown",
   "metadata": {},
   "source": [
    "## First Index of Number - Question\n",
    "\n",
    "Given an array of length N and an integer x, you need to find and return the first index of integer x present in the array. Return -1 if it is not present in the array.\n",
    "\n",
    "First index means, the index of first occurrence of x in the input array.\n",
    "Do this recursively. Indexing in the array starts from 0."
   ]
  },
  {
   "cell_type": "code",
   "execution_count": 3,
   "metadata": {},
   "outputs": [
    {
     "name": "stdout",
     "output_type": "stream",
     "text": [
      "7\n",
      "1 2 3 4 3 2 1\n",
      "3\n",
      "2\n"
     ]
    }
   ],
   "source": [
    "def first_index(arr,x):\n",
    "    \n",
    "    if len(arr) == 0:\n",
    "        return -1\n",
    "    \n",
    "    if arr[0] == x:\n",
    "        return 0\n",
    "    smallans = first_index(arr[1:],x)\n",
    "    if smallans!=-1:\n",
    "        return smallans + 1\n",
    "    return smallans\n",
    "\n",
    "n=int(input())\n",
    "arr=list(int(i) for i in input().strip().split(' '))\n",
    "x=int(input())\n",
    "print(first_index(arr, x))"
   ]
  },
  {
   "cell_type": "markdown",
   "metadata": {},
   "source": [
    "## Last Index Of Number Question\n",
    "\n",
    "Given an array of length N and an integer x, you need to find and return the last index of integer x present in the array. Return -1 if it is not present in the array.\n",
    "Last index means - if x is present multiple times in the array, return the index at which x comes last in the array.\n",
    "You should start traversing your array from 0, not from (N - 1).\n",
    "Do this recursively. Indexing in the array starts from 0."
   ]
  },
  {
   "cell_type": "code",
   "execution_count": 6,
   "metadata": {},
   "outputs": [
    {
     "name": "stdout",
     "output_type": "stream",
     "text": [
      "7\n",
      "1 2 3 4 3 2 1\n",
      "3\n",
      "4\n"
     ]
    }
   ],
   "source": [
    "def last_index(arr,x):\n",
    "    \n",
    "    if len(arr) == 0:\n",
    "        return -1\n",
    "    \n",
    "    if arr[-1] == x:\n",
    "        return len(arr) - 1\n",
    "    \n",
    "    smallans = last_index(arr[:-1], x)\n",
    "    \n",
    "    return smallans\n",
    "\n",
    "n=int(input())\n",
    "arr=list(int(i) for i in input().strip().split(' '))\n",
    "x=int(input())\n",
    "print(last_index(arr, x))"
   ]
  },
  {
   "cell_type": "markdown",
   "metadata": {},
   "source": [
    "## Recursion over strings(like list can use index or can use slicing)"
   ]
  },
  {
   "cell_type": "markdown",
   "metadata": {},
   "source": [
    "### Remove X\n",
    "Given a string, compute recursively a new string where all 'x' chars have been removed."
   ]
  },
  {
   "cell_type": "code",
   "execution_count": 7,
   "metadata": {},
   "outputs": [
    {
     "data": {
      "text/plain": [
       "'ddgdggdg'"
      ]
     },
     "execution_count": 7,
     "metadata": {},
     "output_type": "execute_result"
    }
   ],
   "source": [
    "def remove_x(string):\n",
    "    if len(string) == 0 :\n",
    "        return string\n",
    "    \n",
    "    small = remove_x(string[1:])\n",
    "    if string[0] == 'x':\n",
    "        return small\n",
    "    return string[0] + small\n",
    "\n",
    "remove_x('xdxdxxgdggxdg')"
   ]
  },
  {
   "cell_type": "code",
   "execution_count": null,
   "metadata": {},
   "outputs": [],
   "source": []
  }
 ],
 "metadata": {
  "kernelspec": {
   "display_name": "Python 3",
   "language": "python",
   "name": "python3"
  },
  "language_info": {
   "codemirror_mode": {
    "name": "ipython",
    "version": 3
   },
   "file_extension": ".py",
   "mimetype": "text/x-python",
   "name": "python",
   "nbconvert_exporter": "python",
   "pygments_lexer": "ipython3",
   "version": "3.7.1"
  }
 },
 "nbformat": 4,
 "nbformat_minor": 2
}
