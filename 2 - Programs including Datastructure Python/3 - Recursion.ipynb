{
 "cells": [
  {
   "cell_type": "markdown",
   "metadata": {},
   "source": [
    "# Power "
   ]
  },
  {
   "cell_type": "code",
   "execution_count": 3,
   "metadata": {},
   "outputs": [
    {
     "name": "stdout",
     "output_type": "stream",
     "text": [
      "2 10\n",
      "1024\n"
     ]
    }
   ],
   "source": [
    "## Read input as specified in the question.\n",
    "## Print output as specified in the question.\n",
    "\n",
    "def power(x,n):\n",
    "    if n==0:\n",
    "        return 1\n",
    "    return x*power(x,n-1)\n",
    "\n",
    "import sys\n",
    "sys.setrecursionlimit(11000)\n",
    "\n",
    "x,n = [int(a) for a in input().split()]\n",
    "print(power(x,n))"
   ]
  },
  {
   "cell_type": "markdown",
   "metadata": {},
   "source": [
    "# N-natural Number print"
   ]
  },
  {
   "cell_type": "code",
   "execution_count": 6,
   "metadata": {},
   "outputs": [],
   "source": [
    "def printN(n):\n",
    "    if n==0:\n",
    "        return\n",
    "    \n",
    "    printN(n-1)\n",
    "    print(n,end=' ')"
   ]
  },
  {
   "cell_type": "code",
   "execution_count": 7,
   "metadata": {},
   "outputs": [
    {
     "name": "stdout",
     "output_type": "stream",
     "text": [
      "1 2 3 4 5 6 7 8 9 10 "
     ]
    }
   ],
   "source": [
    "printN(10)"
   ]
  },
  {
   "cell_type": "markdown",
   "metadata": {},
   "source": [
    "# Fibonacci Number"
   ]
  },
  {
   "cell_type": "code",
   "execution_count": 9,
   "metadata": {},
   "outputs": [],
   "source": [
    "def fib(n):\n",
    "    if n<0:\n",
    "        return None\n",
    "    \n",
    "    if n <=1:\n",
    "        return n\n",
    "    \n",
    "    return fib(n-1) + fib(n-2)"
   ]
  },
  {
   "cell_type": "code",
   "execution_count": 10,
   "metadata": {},
   "outputs": [
    {
     "name": "stdout",
     "output_type": "stream",
     "text": [
      "None\n",
      "0\n",
      "1\n",
      "1\n",
      "2\n",
      "3\n",
      "5\n",
      "8\n",
      "13\n",
      "21\n",
      "34\n",
      "55\n"
     ]
    }
   ],
   "source": [
    "print(fib(-1))\n",
    "print(fib(0))\n",
    "print(fib(1))\n",
    "print(fib(2))\n",
    "print(fib(3))\n",
    "print(fib(4))\n",
    "print(fib(5))\n",
    "print(fib(6))\n",
    "print(fib(7))\n",
    "print(fib(8))\n",
    "print(fib(9))\n",
    "print(fib(10))"
   ]
  },
  {
   "cell_type": "markdown",
   "metadata": {},
   "source": [
    "# Check List is Sorted or not"
   ]
  },
  {
   "cell_type": "code",
   "execution_count": 11,
   "metadata": {},
   "outputs": [],
   "source": [
    "def isSorted(l):\n",
    "    \n",
    "    if len(l) == 1:\n",
    "        return True\n",
    "    \n",
    "    if l[0] <l[1]:\n",
    "        return isSorted(l[1:])\n",
    "    else:\n",
    "        return False"
   ]
  },
  {
   "cell_type": "code",
   "execution_count": 12,
   "metadata": {},
   "outputs": [
    {
     "data": {
      "text/plain": [
       "True"
      ]
     },
     "execution_count": 12,
     "metadata": {},
     "output_type": "execute_result"
    }
   ],
   "source": [
    "isSorted([3,4,8,9])"
   ]
  },
  {
   "cell_type": "code",
   "execution_count": 13,
   "metadata": {},
   "outputs": [
    {
     "data": {
      "text/plain": [
       "False"
      ]
     },
     "execution_count": 13,
     "metadata": {},
     "output_type": "execute_result"
    }
   ],
   "source": [
    "isSorted([3,4,8,9,15,1])"
   ]
  },
  {
   "cell_type": "markdown",
   "metadata": {},
   "source": [
    "# Sum of Array"
   ]
  },
  {
   "cell_type": "code",
   "execution_count": 16,
   "metadata": {},
   "outputs": [
    {
     "name": "stdout",
     "output_type": "stream",
     "text": [
      "17\n"
     ]
    }
   ],
   "source": [
    "def sumArray(arr):\n",
    "    # Please add your code here\n",
    "    if len(arr) == 0:\n",
    "        return 0\n",
    "\n",
    "    return arr[0] + sumArray(arr[1:])\n",
    "\n",
    "\n",
    "print(sumArray([1,6,10]))\n"
   ]
  },
  {
   "cell_type": "markdown",
   "metadata": {},
   "source": [
    "## isPresent\n",
    "Given an array of length N and an integer x, you need to find if x is present in the array or not. Return true or false."
   ]
  },
  {
   "cell_type": "code",
   "execution_count": 19,
   "metadata": {},
   "outputs": [],
   "source": [
    "def isPresent(l,x):\n",
    "    if len(l) == 0:\n",
    "        return False\n",
    "    \n",
    "    if l[0] == x:\n",
    "        return True\n",
    "    \n",
    "    return isPresent(l[1:], x)"
   ]
  },
  {
   "cell_type": "code",
   "execution_count": 20,
   "metadata": {},
   "outputs": [
    {
     "data": {
      "text/plain": [
       "True"
      ]
     },
     "execution_count": 20,
     "metadata": {},
     "output_type": "execute_result"
    }
   ],
   "source": [
    "isPresent([1,2,3,4,5],5)"
   ]
  },
  {
   "cell_type": "code",
   "execution_count": 21,
   "metadata": {},
   "outputs": [
    {
     "data": {
      "text/plain": [
       "False"
      ]
     },
     "execution_count": 21,
     "metadata": {},
     "output_type": "execute_result"
    }
   ],
   "source": [
    "isPresent([1,2,3,4,5],15)"
   ]
  },
  {
   "cell_type": "markdown",
   "metadata": {},
   "source": [
    "## First Index of Number - Question\n",
    "\n",
    "Given an array of length N and an integer x, you need to find and return the first index of integer x present in the array. Return -1 if it is not present in the array.\n",
    "\n",
    "First index means, the index of first occurrence of x in the input array.\n",
    "Do this recursively. Indexing in the array starts from 0."
   ]
  },
  {
   "cell_type": "code",
   "execution_count": 3,
   "metadata": {},
   "outputs": [
    {
     "name": "stdout",
     "output_type": "stream",
     "text": [
      "7\n",
      "1 2 3 4 3 2 1\n",
      "3\n",
      "2\n"
     ]
    }
   ],
   "source": [
    "def first_index(arr,x):\n",
    "    \n",
    "    if len(arr) == 0:\n",
    "        return -1\n",
    "    \n",
    "    if arr[0] == x:\n",
    "        return 0\n",
    "    smallans = first_index(arr[1:],x)\n",
    "    if smallans!=-1:\n",
    "        return smallans + 1\n",
    "    return smallans\n",
    "\n",
    "n=int(input())\n",
    "arr=list(int(i) for i in input().strip().split(' '))\n",
    "x=int(input())\n",
    "print(first_index(arr, x))"
   ]
  },
  {
   "cell_type": "markdown",
   "metadata": {},
   "source": [
    "## Last Index Of Number Question\n",
    "\n",
    "Given an array of length N and an integer x, you need to find and return the last index of integer x present in the array. Return -1 if it is not present in the array.\n",
    "Last index means - if x is present multiple times in the array, return the index at which x comes last in the array.\n",
    "You should start traversing your array from 0, not from (N - 1).\n",
    "Do this recursively. Indexing in the array starts from 0."
   ]
  },
  {
   "cell_type": "code",
   "execution_count": 6,
   "metadata": {},
   "outputs": [
    {
     "name": "stdout",
     "output_type": "stream",
     "text": [
      "7\n",
      "1 2 3 4 3 2 1\n",
      "3\n",
      "4\n"
     ]
    }
   ],
   "source": [
    "def last_index(arr,x):\n",
    "    \n",
    "    if len(arr) == 0:\n",
    "        return -1\n",
    "    \n",
    "    if arr[-1] == x:\n",
    "        return len(arr) - 1\n",
    "    \n",
    "    smallans = last_index(arr[:-1], x)\n",
    "    \n",
    "    return smallans\n",
    "\n",
    "n=int(input())\n",
    "arr=list(int(i) for i in input().strip().split(' '))\n",
    "x=int(input())\n",
    "print(last_index(arr, x))"
   ]
  },
  {
   "cell_type": "markdown",
   "metadata": {},
   "source": [
    "## Recursion over strings(like list can use index or can use slicing)"
   ]
  },
  {
   "cell_type": "markdown",
   "metadata": {},
   "source": [
    "### Remove X\n",
    "Given a string, compute recursively a new string where all 'x' chars have been removed."
   ]
  },
  {
   "cell_type": "code",
   "execution_count": 7,
   "metadata": {},
   "outputs": [
    {
     "data": {
      "text/plain": [
       "'ddgdggdg'"
      ]
     },
     "execution_count": 7,
     "metadata": {},
     "output_type": "execute_result"
    }
   ],
   "source": [
    "def remove_x(string):\n",
    "    if len(string) == 0 :\n",
    "        return string\n",
    "    \n",
    "    small = remove_x(string[1:])\n",
    "    if string[0] == 'x':\n",
    "        return small\n",
    "    return string[0] + small\n",
    "\n",
    "remove_x('xdxdxxgdggxdg')"
   ]
  },
  {
   "cell_type": "markdown",
   "metadata": {},
   "source": [
    "# Binary Search (# list must be sorted)"
   ]
  },
  {
   "cell_type": "code",
   "execution_count": 102,
   "metadata": {},
   "outputs": [],
   "source": [
    "def binarySearch(arr,ele):\n",
    "    n = len(arr) \n",
    "    start = 0\n",
    "    end = n - 1\n",
    "    while(start<=end):\n",
    "        mid = (start + end) // 2\n",
    "        if arr[mid] == ele:\n",
    "            return mid\n",
    "        elif arr[mid] < ele :\n",
    "            #search in right part\n",
    "            start = mid + 1\n",
    "        else : \n",
    "            end = mid - 1\n",
    "    else:\n",
    "        return -1\n",
    "    \n",
    "    return mid\n",
    "            "
   ]
  },
  {
   "cell_type": "code",
   "execution_count": 103,
   "metadata": {},
   "outputs": [
    {
     "data": {
      "text/plain": [
       "5"
      ]
     },
     "execution_count": 103,
     "metadata": {},
     "output_type": "execute_result"
    }
   ],
   "source": [
    "binarySearch([1,2,3,4,5,6,7,8], 6)"
   ]
  },
  {
   "cell_type": "code",
   "execution_count": 104,
   "metadata": {},
   "outputs": [],
   "source": [
    "# using recursion\n",
    "\n",
    "def binarySearchRec(arr,ele,start,end):\n",
    "\n",
    "    if start >end:\n",
    "        return -1\n",
    "    \n",
    "    mid = (start + end) // 2\n",
    "    if arr[mid] == ele:\n",
    "        return mid\n",
    "    elif arr[mid] < ele :\n",
    "        #search in right part\n",
    "        return binarySearchRec(arr,ele,mid+1,end)\n",
    "    else : \n",
    "        return binarySearchRec(arr,ele,start,mid-1)            "
   ]
  },
  {
   "cell_type": "code",
   "execution_count": 105,
   "metadata": {},
   "outputs": [
    {
     "data": {
      "text/plain": [
       "-1"
      ]
     },
     "execution_count": 105,
     "metadata": {},
     "output_type": "execute_result"
    }
   ],
   "source": [
    "arr = [1,2,3,4,5,6,7,8,9]\n",
    "end = len(arr) - 1\n",
    "binarySearchRec(arr,11, 0, end)"
   ]
  },
  {
   "cell_type": "markdown",
   "metadata": {},
   "source": [
    "# Merge Sort"
   ]
  },
  {
   "cell_type": "code",
   "execution_count": 106,
   "metadata": {},
   "outputs": [],
   "source": [
    "def merge(arr,start,end):\n",
    "    \n",
    "    mid = (start + end) // 2\n",
    "    i  = start\n",
    "    j = mid + 1\n",
    "    \n",
    "    new_arr = []\n",
    "    while(i <= mid and j <=end):\n",
    "        if arr[i] < arr[j]:\n",
    "            new_arr.append(arr[i])\n",
    "            i += 1\n",
    "        else : \n",
    "            new_arr.append(arr[j])\n",
    "            j += 1\n",
    "            \n",
    "    while(i <= mid):\n",
    "        new_arr.append(arr[i])\n",
    "        i += 1\n",
    "            \n",
    "    while(j <=end):\n",
    "        new_arr.append(arr[j])\n",
    "        j += 1\n",
    "            \n",
    "#     for i in range(start)\n",
    "    arr[start:end+1] = new_arr\n",
    "        "
   ]
  },
  {
   "cell_type": "code",
   "execution_count": 107,
   "metadata": {},
   "outputs": [],
   "source": [
    "def mergeSort(arr,start,end):\n",
    "    \n",
    "    if start >= end : # 1 or lesser element are always sorted\n",
    "        return \n",
    "    \n",
    "    mid = (start + end) // 2\n",
    "    mergeSort(arr,start,mid)\n",
    "    mergeSort(arr,mid+1,end)\n",
    "    merge(arr, start, end)   "
   ]
  },
  {
   "cell_type": "code",
   "execution_count": 108,
   "metadata": {},
   "outputs": [
    {
     "name": "stdout",
     "output_type": "stream",
     "text": [
      "[0, 1, 1, 2, 2, 3, 3, 4, 4, 5, 5, 6, 6, 7, 7, 8, 8, 9]\n"
     ]
    }
   ],
   "source": [
    "arr = [9,8,7,6,5,4,3,2,1,0,1,2,3,4,5,6,7,8]\n",
    "mergeSort(arr,0,len(arr)-1)\n",
    "print(arr)"
   ]
  },
  {
   "cell_type": "code",
   "execution_count": null,
   "metadata": {},
   "outputs": [],
   "source": []
  },
  {
   "cell_type": "markdown",
   "metadata": {},
   "source": [
    "# QuickSort"
   ]
  },
  {
   "cell_type": "code",
   "execution_count": 7,
   "metadata": {},
   "outputs": [],
   "source": [
    "def partition_cb(arr,start,end):\n",
    "    \n",
    "    pivot = arr[end]\n",
    "    \n",
    "    pivotIndex = start\n",
    "    for i in range(start,end+1):\n",
    "        if arr[i] < pivot : \n",
    "            arr[i], arr[pivotIndex] = arr[pivotIndex], arr[i]  \n",
    "            pivotIndex += 1\n",
    "        else:\n",
    "            pass # we found out index where element is greater than pivot \n",
    "                # so that in next index if we found smaller we can swap them as pivotIndex won't move.\n",
    "        \n",
    "    arr[end] ,arr[pivotIndex] = arr[pivotIndex], arr[end]\n",
    "    return pivotIndex\n",
    "    "
   ]
  },
  {
   "cell_type": "code",
   "execution_count": 8,
   "metadata": {},
   "outputs": [],
   "source": [
    "def quick_sort(arr,start,end):\n",
    "    if start >= end:\n",
    "        return \n",
    "    \n",
    "    index = partition_cb(arr,start,end)\n",
    "    quick_sort(arr,start,index-1)\n",
    "    quick_sort(arr,index+1,end)"
   ]
  },
  {
   "cell_type": "code",
   "execution_count": 9,
   "metadata": {},
   "outputs": [
    {
     "name": "stdout",
     "output_type": "stream",
     "text": [
      "[0, 1, 1, 2, 2, 3, 3, 4, 4, 5, 5, 6, 6, 7, 7, 8, 8, 9, 10, 11]\n"
     ]
    }
   ],
   "source": [
    "arr = [9,8,7,6,5,4,3,2,1,0,1,2,3,4,5,6,7,8,10,11]\n",
    "quick_sort(arr,0,len(arr)-1)\n",
    "print(arr)"
   ]
  },
  {
   "cell_type": "code",
   "execution_count": 10,
   "metadata": {},
   "outputs": [],
   "source": [
    "# second version of Partition function"
   ]
  },
  {
   "cell_type": "code",
   "execution_count": 11,
   "metadata": {},
   "outputs": [],
   "source": [
    "def partition_cn(arr,start,end):\n",
    "    \n",
    "    pivot = arr[end]\n",
    "    # counting how many are smaller than count\n",
    "    count = 0\n",
    "    for i in range(start,end+1):\n",
    "        if arr[i] < pivot : \n",
    "            count += 1\n",
    "           \n",
    "    arr[count+start], arr[end] = arr[end], arr[count+start] \n",
    "    \n",
    "    left = start\n",
    "    right = end\n",
    "    while(left < count+start and right > count + start) : \n",
    "        if arr[left] < pivot :\n",
    "            left += 1\n",
    "            continue\n",
    "        \n",
    "        if arr[right] >= pivot :\n",
    "            right -= 1\n",
    "            continue\n",
    "        \n",
    "        arr[left], arr[right] = arr[right], arr[left]\n",
    "        left += 1\n",
    "        right -= 1\n",
    "    \n",
    "    return count + start\n"
   ]
  },
  {
   "cell_type": "code",
   "execution_count": 12,
   "metadata": {},
   "outputs": [],
   "source": [
    "def quick_sort2(arr,start,end):\n",
    "    if start >= end:\n",
    "        return \n",
    "    \n",
    "    index = partition_cn(arr,start,end)\n",
    "    quick_sort2(arr,start,index-1)\n",
    "    quick_sort2(arr,index+1,end)"
   ]
  },
  {
   "cell_type": "code",
   "execution_count": 13,
   "metadata": {},
   "outputs": [
    {
     "name": "stdout",
     "output_type": "stream",
     "text": [
      "[0, 1, 1, 2, 2, 3, 3, 4, 4, 5, 5, 6, 6, 7, 7, 8, 8, 9, 10, 11]\n"
     ]
    }
   ],
   "source": [
    "arr = [9,8,7,6,5,4,3,2,1,0,1,2,3,4,5,6,7,8,10,11]\n",
    "quick_sort2(arr,0,len(arr)-1)\n",
    "print(arr)"
   ]
  },
  {
   "cell_type": "code",
   "execution_count": null,
   "metadata": {},
   "outputs": [],
   "source": []
  },
  {
   "cell_type": "markdown",
   "metadata": {},
   "source": [
    "## Tower Of Hanoi - Problem\n",
    "Tower of Hanoi is a mathematical puzzle where we have three rods and n disks. The objective of the puzzle is to move all disks from source rod to destination rod using third rod (say auxiliary). The rules are :\n",
    "```\n",
    "1) Only one disk can be moved at a time.\n",
    "2) A disk can be moved only if it is on the top of a rod.\n",
    "3) No disk can be placed on the top of a smaller disk.\n",
    "```\n",
    "Print the steps required to move n disks from source rod to destination rod.\n",
    "\n",
    "Source Rod is named as 'a', auxiliary rod as 'b' and destination rod as 'c'.\n",
    "```\n",
    "Sample Input :\n",
    "2\n",
    "Sample Output :\n",
    "a b\n",
    "a c\n",
    "b c\n",
    "```"
   ]
  },
  {
   "cell_type": "code",
   "execution_count": 15,
   "metadata": {},
   "outputs": [
    {
     "name": "stdout",
     "output_type": "stream",
     "text": [
      "3\n",
      "a c\n",
      "a b\n",
      "c b\n",
      "a c\n",
      "b a\n",
      "b c\n",
      "a c\n"
     ]
    }
   ],
   "source": [
    "def tower_of_hanoi(n):\n",
    "    helper(n,'a','b','c')\n",
    "\n",
    "def helper(n,src,aux,des):\n",
    "    if n <= 0 :\n",
    "        return\n",
    "    \n",
    "    if n == 1 : \n",
    "        print(src, des)\n",
    "        return\n",
    "    \n",
    "    helper(n-1,src,des,aux)\n",
    "    print(src,des)\n",
    "    helper(n-1,aux,src,des)\n",
    "    \n",
    "import sys\n",
    "sys.setrecursionlimit(11000)\n",
    "n = int(input())\n",
    "tower_of_hanoi(n)"
   ]
  },
  {
   "cell_type": "markdown",
   "metadata": {},
   "source": [
    "## Geometric Sum\n",
    "Given k, find the geometric sum i.e.\n",
    "1 + 1/2 + 1/4 + 1/8 + ... + 1/(2^k) \n",
    "using recursion. Return the answer."
   ]
  },
  {
   "cell_type": "code",
   "execution_count": 17,
   "metadata": {},
   "outputs": [],
   "source": [
    "def gp(n):\n",
    "    if n == 0:\n",
    "        return 1\n",
    "    \n",
    "    return (1/(2)**(n)) + gp(n-1)"
   ]
  },
  {
   "cell_type": "code",
   "execution_count": 18,
   "metadata": {},
   "outputs": [
    {
     "data": {
      "text/plain": [
       "1.875"
      ]
     },
     "execution_count": 18,
     "metadata": {},
     "output_type": "execute_result"
    }
   ],
   "source": [
    "gp(3)"
   ]
  },
  {
   "cell_type": "markdown",
   "metadata": {},
   "source": [
    "## Check Palindrome (recursive)\n",
    "Check if a given String S is palindrome or not (using recursion). Return true or false.\n",
    "```\n",
    "Input Format :\n",
    "String S\n",
    "Output Format :\n",
    "true or false\n",
    "Sample Input 1 :\n",
    "racecar\n",
    "Sample Output 1:\n",
    "true\n",
    "Sample Input 2 :\n",
    "ninja\n",
    "Sample Output 2:\n",
    "false\n",
    "Download Test Cases\n",
    "```"
   ]
  },
  {
   "cell_type": "code",
   "execution_count": 21,
   "metadata": {},
   "outputs": [
    {
     "name": "stdout",
     "output_type": "stream",
     "text": [
      "racecar\n",
      "true\n"
     ]
    }
   ],
   "source": [
    "def isPalindrome(n):\n",
    "    \n",
    "    if len(n) == 0 or len(n)==1:\n",
    "        return True\n",
    "    \n",
    "    if n[0] == n[-1]:\n",
    "        return isPalindrome(n[1:-1])\n",
    "    return False\n",
    "\n",
    "n = input()\n",
    "if isPalindrome(n):\n",
    "    print('true')\n",
    "else:\n",
    "    print('false')"
   ]
  },
  {
   "cell_type": "markdown",
   "metadata": {},
   "source": [
    "## Check AB\n",
    "\n",
    "Suppose you have a string made up of only 'a' and 'b'. Write a recursive function that checks if the string was generated using the following rules:\n",
    "```\n",
    "a. The string begins with an 'a'\n",
    "b. Each 'a' is followed by nothing or an 'a' or \"bb\"\n",
    "c. Each \"bb\" is followed by nothing or an 'a'\n",
    "If all the rules are followed by the given string, return true otherwise return false.\n",
    "Sample Input:\n",
    "abb\n",
    "Sample Output:\n",
    "true\n",
    "```"
   ]
  },
  {
   "cell_type": "code",
   "execution_count": 22,
   "metadata": {},
   "outputs": [],
   "source": [
    "#TODO"
   ]
  },
  {
   "cell_type": "code",
   "execution_count": null,
   "metadata": {},
   "outputs": [],
   "source": []
  }
 ],
 "metadata": {
  "kernelspec": {
   "display_name": "Python 3",
   "language": "python",
   "name": "python3"
  },
  "language_info": {
   "codemirror_mode": {
    "name": "ipython",
    "version": 3
   },
   "file_extension": ".py",
   "mimetype": "text/x-python",
   "name": "python",
   "nbconvert_exporter": "python",
   "pygments_lexer": "ipython3",
   "version": "3.7.1"
  }
 },
 "nbformat": 4,
 "nbformat_minor": 2
}
