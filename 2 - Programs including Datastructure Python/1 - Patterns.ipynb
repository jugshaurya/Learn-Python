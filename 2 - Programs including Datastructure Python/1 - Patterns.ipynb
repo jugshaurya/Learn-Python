{
 "cells": [
  {
   "cell_type": "markdown",
   "metadata": {},
   "source": [
    "# Patterns"
   ]
  },
  {
   "cell_type": "code",
   "execution_count": 9,
   "metadata": {},
   "outputs": [
    {
     "name": "stdout",
     "output_type": "stream",
     "text": [
      "4\n",
      "****\n",
      "****\n",
      "****\n",
      "****\n"
     ]
    }
   ],
   "source": [
    "n = int(input())\n",
    "for i in range(n):\n",
    "    for j in range(n):\n",
    "        print('*',end='')\n",
    "    print()"
   ]
  },
  {
   "cell_type": "code",
   "execution_count": 10,
   "metadata": {},
   "outputs": [
    {
     "name": "stdout",
     "output_type": "stream",
     "text": [
      "4\n",
      "*\n",
      "**\n",
      "***\n",
      "****\n"
     ]
    }
   ],
   "source": [
    "n = int(input())\n",
    "for i in range(n):\n",
    "    for j in range(i+1):\n",
    "        print('*',end='')\n",
    "    print()"
   ]
  },
  {
   "cell_type": "code",
   "execution_count": 18,
   "metadata": {},
   "outputs": [
    {
     "name": "stdout",
     "output_type": "stream",
     "text": [
      "4\n",
      "1\n",
      "12\n",
      "123\n",
      "1234\n"
     ]
    }
   ],
   "source": [
    "n = int(input())\n",
    "i = 0\n",
    "while i < n:\n",
    "    count = 1\n",
    "    j = 0\n",
    "    while j < i+1:\n",
    "        print(count,end='')\n",
    "        count += 1\n",
    "        j+=1\n",
    "    print()\n",
    "    i+=1"
   ]
  },
  {
   "cell_type": "code",
   "execution_count": 22,
   "metadata": {},
   "outputs": [
    {
     "name": "stdout",
     "output_type": "stream",
     "text": [
      "4\n",
      "4\n",
      "43\n",
      "432\n",
      "4321\n"
     ]
    }
   ],
   "source": [
    "n = int(input())\n",
    "for i in range(n):\n",
    "    count = n\n",
    "    for j in range(i+1):\n",
    "        print(count,end='')\n",
    "        count-=1\n",
    "    print()"
   ]
  },
  {
   "cell_type": "code",
   "execution_count": 25,
   "metadata": {},
   "outputs": [
    {
     "name": "stdout",
     "output_type": "stream",
     "text": [
      "4\n",
      "1 \n",
      "2 3 \n",
      "4 5 6 \n",
      "7 8 9 10 \n"
     ]
    }
   ],
   "source": [
    "n = int(input())\n",
    "count = 1\n",
    "for i in range(n):\n",
    "    for j in range(i+1):\n",
    "        print(count,end=' ')\n",
    "        count+=1\n",
    "    print()"
   ]
  },
  {
   "cell_type": "code",
   "execution_count": 30,
   "metadata": {},
   "outputs": [
    {
     "name": "stdout",
     "output_type": "stream",
     "text": [
      "4\n",
      "ABCD\n",
      "ABCD\n",
      "ABCD\n",
      "ABCD\n"
     ]
    }
   ],
   "source": [
    "n = int(input())\n",
    "for i in range(n):\n",
    "    for j in range(n):\n",
    "        print(chr(j+ord('A')),end='')\n",
    "    print()"
   ]
  },
  {
   "cell_type": "code",
   "execution_count": 32,
   "metadata": {},
   "outputs": [
    {
     "name": "stdout",
     "output_type": "stream",
     "text": [
      "4\n",
      "ABCD\n",
      "BCDE\n",
      "CDEF\n",
      "DEFG\n"
     ]
    }
   ],
   "source": [
    "n = int(input())\n",
    "for i in range(n):\n",
    "    for j in range(n):\n",
    "        print(chr(i+j+ord('A')),end='')\n",
    "    print()"
   ]
  },
  {
   "cell_type": "code",
   "execution_count": 34,
   "metadata": {},
   "outputs": [
    {
     "name": "stdout",
     "output_type": "stream",
     "text": [
      "5\n",
      "A\n",
      "BB\n",
      "CCC\n",
      "DDDD\n",
      "EEEEE\n"
     ]
    }
   ],
   "source": [
    "n = int(input())\n",
    "for i in range(n):\n",
    "    for j in range(i+1):\n",
    "        print(chr(65+i),end='')\n",
    "    print()\n",
    "        "
   ]
  },
  {
   "cell_type": "code",
   "execution_count": 45,
   "metadata": {},
   "outputs": [
    {
     "name": "stdout",
     "output_type": "stream",
     "text": [
      "4\n",
      "   1\n",
      "  12\n",
      " 123\n",
      "1234\n"
     ]
    }
   ],
   "source": [
    "n= int(input())\n",
    "for i in range(n):\n",
    "    for spaces in range(n-i-1):\n",
    "        print(' ',end='')\n",
    "    count=1\n",
    "    for num in range(i+1):\n",
    "        print(count,end='')\n",
    "        count+=1\n",
    "    print()"
   ]
  },
  {
   "cell_type": "code",
   "execution_count": 44,
   "metadata": {},
   "outputs": [
    {
     "name": "stdout",
     "output_type": "stream",
     "text": [
      "4\n",
      "   *\n",
      "  **\n",
      " ***\n",
      "****\n"
     ]
    }
   ],
   "source": [
    "n= int(input())\n",
    "for i in range(n):\n",
    "    for spaces in range(n-i-1):\n",
    "        print(' ',end='')\n",
    "    for stars in range(i+1):\n",
    "        print('*',end='')\n",
    "    print()"
   ]
  },
  {
   "cell_type": "markdown",
   "metadata": {},
   "source": [
    "# Advance Patterns"
   ]
  },
  {
   "cell_type": "code",
   "execution_count": 50,
   "metadata": {},
   "outputs": [
    {
     "name": "stdout",
     "output_type": "stream",
     "text": [
      "4\n",
      "   1\n",
      "  111\n",
      " 11111\n",
      "1111111\n"
     ]
    }
   ],
   "source": [
    "n= int(input())\n",
    "for i in range(n):\n",
    "    for spaces in range(n-i-1):\n",
    "        print(' ',end='')\n",
    "    for values in range(2*i+1):\n",
    "        print(1,end='')\n",
    "    print()"
   ]
  },
  {
   "cell_type": "code",
   "execution_count": 57,
   "metadata": {},
   "outputs": [
    {
     "name": "stdout",
     "output_type": "stream",
     "text": [
      "4\n",
      "   1\n",
      "  121\n",
      " 12321\n",
      "1234321\n"
     ]
    }
   ],
   "source": [
    "n= int(input())\n",
    "for i in range(n):\n",
    "    # left half\n",
    "    for spaces in range(n-i-1):\n",
    "        print(' ',end='')\n",
    "    count=1\n",
    "    for values in range(i+1):\n",
    "        print(count,end='')\n",
    "        count+=1\n",
    "        \n",
    "    # right half\n",
    "    count-=1\n",
    "    for values in range(i):\n",
    "        count-=1\n",
    "        print(count,end='')\n",
    "        \n",
    "        \n",
    "    print()"
   ]
  },
  {
   "cell_type": "code",
   "execution_count": 111,
   "metadata": {},
   "outputs": [
    {
     "name": "stdout",
     "output_type": "stream",
     "text": [
      "4\n",
      "   1\n",
      "  232\n",
      " 34543\n",
      "4567654\n"
     ]
    }
   ],
   "source": [
    "n= int(input())\n",
    "for i in range(n):\n",
    "    # left half\n",
    "    for spaces in range(n-i-1):\n",
    "        print(' ',end='')\n",
    "        \n",
    "    count=i+1\n",
    "    for values in range(i+1):\n",
    "        print(count,end='')\n",
    "        count+=1\n",
    "        \n",
    "    # right half\n",
    "    count-=1\n",
    "    for values in range(i):\n",
    "        count-=1\n",
    "        print(count,end='')\n",
    "        \n",
    "        \n",
    "    print()"
   ]
  },
  {
   "cell_type": "code",
   "execution_count": 109,
   "metadata": {},
   "outputs": [
    {
     "name": "stdout",
     "output_type": "stream",
     "text": [
      "4\n",
      "   1\n",
      "  212\n",
      " 32123\n",
      "4321234\n"
     ]
    }
   ],
   "source": [
    "n= int(input())\n",
    "for i in range(n):\n",
    "    # left half\n",
    "    for spaces in range(n-i-1):\n",
    "        print(' ',end='')\n",
    "        \n",
    "    count=i+1\n",
    "    for values in range(i+1):\n",
    "        print(count,end='')\n",
    "        count-=1\n",
    "        \n",
    "    # right half\n",
    "    count+=1\n",
    "    for values in range(i):\n",
    "        count+=1\n",
    "        print(count,end='')\n",
    "        \n",
    "        \n",
    "    print()"
   ]
  },
  {
   "cell_type": "code",
   "execution_count": null,
   "metadata": {},
   "outputs": [],
   "source": []
  },
  {
   "cell_type": "code",
   "execution_count": 66,
   "metadata": {},
   "outputs": [
    {
     "name": "stdout",
     "output_type": "stream",
     "text": [
      "5\n",
      "1        1\n",
      "12      21\n",
      "123    321\n",
      "1234  4321\n",
      "1234554321\n"
     ]
    }
   ],
   "source": [
    "n= int(input())\n",
    "\n",
    "for i in range(n):\n",
    "    count=1\n",
    "    for j in range(i+1):\n",
    "        print(count,end='')\n",
    "        count+=1\n",
    "        \n",
    "    # spaces\n",
    "    for spaces in range(2*n-2*(i+1)):\n",
    "        print(' ',end='')\n",
    "    \n",
    "    count-=1\n",
    "    for j in range(i+1):\n",
    "        print(count,end='')\n",
    "        count-=1\n",
    "    print()"
   ]
  },
  {
   "cell_type": "markdown",
   "metadata": {},
   "source": [
    "### Print this\n",
    "for n = 8\n",
    "```python\n",
    "*0000000*0000000*\n",
    "0*000000*000000*0\n",
    "00*00000*00000*00\n",
    "000*0000*0000*000\n",
    "0000*000*000*0000\n",
    "00000*00*00*00000\n",
    "000000*0*0*000000\n",
    "0000000***0000000\n",
    "\n",
    "```"
   ]
  },
  {
   "cell_type": "code",
   "execution_count": 91,
   "metadata": {},
   "outputs": [
    {
     "name": "stdout",
     "output_type": "stream",
     "text": [
      "8\n",
      "*0000000*0000000*\n",
      "0*000000*000000*0\n",
      "00*00000*00000*00\n",
      "000*0000*0000*000\n",
      "0000*000*000*0000\n",
      "00000*00*00*00000\n",
      "000000*0*0*000000\n",
      "0000000***0000000\n"
     ]
    }
   ],
   "source": [
    "n= int(input())\n",
    "for i in range(n):\n",
    "    # zero-star\n",
    "    for j in range(i):\n",
    "        print('0',end='')\n",
    "    print('*',end='')\n",
    "            \n",
    "    # zero-star\n",
    "    for j in range(n-i-1):\n",
    "        print('0',end='')\n",
    "    print('*',end='')\n",
    "    \n",
    "    #zero-start\n",
    "    for j in range(n-i-1):\n",
    "        print('0',end='')\n",
    "    print('*',end='')\n",
    "    \n",
    "    #zero\n",
    "    for j in range(i):\n",
    "        print('0',end='')\n",
    "    \n",
    "    print()"
   ]
  },
  {
   "cell_type": "code",
   "execution_count": 105,
   "metadata": {},
   "outputs": [
    {
     "name": "stdout",
     "output_type": "stream",
     "text": [
      "7\n",
      "* \n",
      " * * \n",
      "  * * * \n",
      "   * * * * \n",
      "  * * * \n",
      " * * \n",
      "* \n"
     ]
    }
   ],
   "source": [
    "n= int(input()) # always odd\n",
    "for i in range(n//2):\n",
    "# -------upper half-----------------\n",
    "    # spaces\n",
    "    for j in range(i):\n",
    "        print(' ',end='')\n",
    "    # stars\n",
    "    for j in range(i+1):\n",
    "        print('* ',end='')\n",
    "    print()\n",
    "# ----------------------------------\n",
    "\n",
    "# -----------middle-----------------\n",
    "# spaces\n",
    "for i in range(n//2):\n",
    "    print(' ',end='')\n",
    "# stars\n",
    "for i in range(n//2+1):\n",
    "    print('* ',end='')\n",
    "print()    \n",
    "# ----------------------------------\n",
    "\n",
    "#------- lower half-----------------\n",
    "for i in range(n//2):\n",
    "    # spaces\n",
    "    for j in range(n//2-i-1):\n",
    "        print(' ',end='')\n",
    "    # stars\n",
    "    for j in range(n//2-i):\n",
    "        print('* ',end='')\n",
    "    print()\n",
    "        \n",
    "# ----------------------------------\n"
   ]
  },
  {
   "cell_type": "code",
   "execution_count": 120,
   "metadata": {},
   "outputs": [
    {
     "name": "stdout",
     "output_type": "stream",
     "text": [
      "5\n",
      "12345\n",
      " 2345\n",
      "  345\n",
      "   45\n",
      "    5\n",
      "   45\n",
      "  345\n",
      " 2345\n",
      "12345\n"
     ]
    }
   ],
   "source": [
    "n = int(input())\n",
    "# upper half\n",
    "for i in range(n):\n",
    "    for spaces in range(i):\n",
    "        print(' ',end='')\n",
    "    count = i+1\n",
    "    for num in range(n-i):\n",
    "        print(count,end='')\n",
    "        count+=1\n",
    "    print()\n",
    "    \n",
    "# lower half\n",
    "for i in range(n-1):\n",
    "    for spaces in range(n-2-i):\n",
    "        print(' ',end='')\n",
    "    count = n-i-1\n",
    "    for num in range(i+2):\n",
    "        print(count,end='')\n",
    "        count+=1\n",
    "    print()"
   ]
  },
  {
   "cell_type": "code",
   "execution_count": 139,
   "metadata": {},
   "outputs": [
    {
     "name": "stdout",
     "output_type": "stream",
     "text": [
      "7\n",
      "   *\n",
      "  ***\n",
      " *****\n",
      "*******\n",
      " *****\n",
      "  ***\n",
      "   *\n"
     ]
    }
   ],
   "source": [
    "n= int(input())\n",
    "\n",
    "# upper\n",
    "for i in range(n//2):\n",
    "    for spaces in range(n//2-i):\n",
    "        print(' ',end='')\n",
    "        \n",
    "    for values in range(2*i+1):\n",
    "        print('*',end='')\n",
    "    print()\n",
    "    \n",
    "# middle\n",
    "for i in range(n):\n",
    "    print('*',end='')\n",
    "print()\n",
    "# lower\n",
    "\n",
    "for i in range(n//2):\n",
    "    for spaces in range(i+1):\n",
    "        print(' ',end='')\n",
    "        \n",
    "    for values in range(n-2*i-2):\n",
    "        print('*',end='')\n",
    "        \n",
    "    print()"
   ]
  },
  {
   "cell_type": "markdown",
   "metadata": {},
   "source": [
    "# To DO\n",
    "```python\n",
    "4444444\n",
    "4333334\n",
    "4322234\n",
    "4321234\n",
    "4322234\n",
    "4333334  \n",
    "4444444\n",
    "```"
   ]
  },
  {
   "cell_type": "code",
   "execution_count": null,
   "metadata": {},
   "outputs": [],
   "source": []
  },
  {
   "cell_type": "code",
   "execution_count": 49,
   "metadata": {},
   "outputs": [],
   "source": [
    "# -----------------------------"
   ]
  },
  {
   "cell_type": "code",
   "execution_count": 37,
   "metadata": {},
   "outputs": [
    {
     "name": "stdout",
     "output_type": "stream",
     "text": [
      "5\n",
      "1 2 3 4 5 \n",
      "11 12 13 14 15 \n",
      "21 22 23 24 25 \n",
      "16 17 18 19 20 \n",
      "6 7 8 9 10 \n"
     ]
    }
   ],
   "source": [
    "n = int(input())\n",
    "\n",
    "count = 1\n",
    "# upper half\n",
    "for i in range(n//2+1):\n",
    "    for j in range(n):\n",
    "        print(count,end=' ')\n",
    "        count+=1\n",
    "    count+= n\n",
    "    print()\n",
    "\n",
    "rest = n - (n//2+1)\n",
    "# lower half\n",
    "count = count - 3*n\n",
    "for i in range(rest):\n",
    "    for j in range(n):\n",
    "        print(count,end=' ')\n",
    "        count+=1\n",
    "    count-= 3*n\n",
    "    print()\n"
   ]
  },
  {
   "cell_type": "markdown",
   "metadata": {},
   "source": [
    "### Pascal Triangle"
   ]
  },
  {
   "cell_type": "code",
   "execution_count": 3,
   "metadata": {},
   "outputs": [
    {
     "name": "stdout",
     "output_type": "stream",
     "text": "0231"
    }
   ],
   "source": [
    "## Read input as specified in the question.\n",
    "## Print output as specified in the questio\n",
    "def sort01(arr,N):\n",
    "    i=0\n",
    "    j=N-1\n",
    "    while i<j:\n",
    "        while arr[i]==0 and i<j:\n",
    "            i=i+1\n",
    "        while arr[j]==1 and i<j:\n",
    "            j=j-1\n",
    "        if i<j:\n",
    "            arr[i]=0\n",
    "            arr[j]=1\n",
    "            i=i+1\n",
    "            j=j+1\n",
    "        return arr    \n",
    "        \n",
    "\n",
    "N=int(input())\n",
    "arr=[int(x) for x in input().split()]\n",
    "sort01(arr,N)\n",
    "for ele in arr:\n",
    "    print(ele,end='')"
   ]
  },
  {
   "cell_type": "markdown",
   "metadata": {},
   "source": [
    "# "
   ]
  }
 ],
 "metadata": {
  "kernelspec": {
   "display_name": "Python 3",
   "language": "python",
   "name": "python3"
  },
  "language_info": {
   "codemirror_mode": {
    "name": "ipython",
    "version": 3
   },
   "file_extension": ".py",
   "mimetype": "text/x-python",
   "name": "python",
   "nbconvert_exporter": "python",
   "pygments_lexer": "ipython3",
   "version": "3.6.9-final"
  }
 },
 "nbformat": 4,
 "nbformat_minor": 2
}