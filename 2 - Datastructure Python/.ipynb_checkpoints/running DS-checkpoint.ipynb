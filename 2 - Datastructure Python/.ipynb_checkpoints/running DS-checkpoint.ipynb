{
 "cells": [
  {
   "cell_type": "code",
   "execution_count": null,
   "metadata": {},
   "outputs": [],
   "source": [
    "from BTNode import BinaryTreeNode\n",
    "\n",
    "def printTree_preorder(root):\n",
    "    if root==None:\n",
    "        return\n",
    "\n",
    "    print(root.data, ' : ', end = '')\n",
    "    if root.left != None:\n",
    "        print(root.left.data, end = ',')\n",
    "    if root.right != None:\n",
    "        print(root.right.data, end = ' ')\n",
    "    print()\n",
    "    \n",
    "    printTree_preorder(root.left)\n",
    "    printTree_preorder(root.right)\n",
    "\n",
    "def buildTree():\n",
    "    # li = [int(x) for x in input().split()] # given input in a line only, data is seperated by space\n",
    "    root = None\n",
    "    node1 = BinaryTreeNode(1)\n",
    "    node2 = BinaryTreeNode(2)\n",
    "    node3 = BinaryTreeNode(3)\n",
    "    node4 = BinaryTreeNode(4)\n",
    "    node5 = BinaryTreeNode(5)\n",
    "    node1.left = node2\n",
    "    node1.right = node3\n",
    "    node2.left = node4\n",
    "    node2.right = node5\n",
    "\n",
    "\n",
    "    root = node1\n",
    "    return root\n",
    "\n",
    "def userBuiltTree():\n",
    "    rootData = int(input())\n",
    "\n",
    "    # -1 is used to stop continuing over the current branch - so taking input in depth-first Style (DFS)\n",
    "    if rootData == -1:\n",
    "        return None\n",
    "\n",
    "    root = BinaryTreeNode(rootData)\n",
    "    root.left = userBuiltTree()\n",
    "    root.right = userBuiltTree()    \n",
    "    return root\n",
    "\n",
    "root = userBuiltTree()\n",
    "printTree_preorder(root)"
   ]
  }
 ],
 "metadata": {
  "kernelspec": {
   "display_name": "Python 3",
   "language": "python",
   "name": "python3"
  },
  "language_info": {
   "codemirror_mode": {
    "name": "ipython",
    "version": 3
   },
   "file_extension": ".py",
   "mimetype": "text/x-python",
   "name": "python",
   "nbconvert_exporter": "python",
   "pygments_lexer": "ipython3",
   "version": "3.7.1"
  }
 },
 "nbformat": 4,
 "nbformat_minor": 2
}
