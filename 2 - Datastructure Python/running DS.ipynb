{
 "cells": [
  {
   "cell_type": "code",
   "execution_count": 21,
   "metadata": {},
   "outputs": [
    {
     "name": "stdout",
     "output_type": "stream",
     "text": [
      "1  : 2,3 \n",
      "2  : 4,5 \n",
      "4  : \n",
      "5  : \n",
      "3  : \n"
     ]
    }
   ],
   "source": [
    "from BTNode import BinaryTreeNode\n",
    "\n",
    "# class BinaryTreeNode():\n",
    "#     def __init__(self, data):\n",
    "#         self.data = data\n",
    "#         self.left = None\n",
    "#         self.right = None\n",
    "\n",
    "\n",
    "def printTree_preorder(root):\n",
    "    if root==None:\n",
    "        return\n",
    "\n",
    "    print(root.data,' : ', end = '')\n",
    "    if root.left != None:\n",
    "        print(root.left.data,end=',')\n",
    "    if root.right != None:\n",
    "        print(root.right.data,end=' ')\n",
    "    print()\n",
    "    \n",
    "    printTree_preorder(root.left)\n",
    "    printTree_preorder(root.right)\n",
    "\n",
    "def buildTree():\n",
    "    # li = [int(x) for x in input().split()] # given input in a line only, data is seperated by space\n",
    "    root = None\n",
    "    node1 = BinaryTreeNode(1)\n",
    "    node2 = BinaryTreeNode(2)\n",
    "    node3 = BinaryTreeNode(3)\n",
    "    node4 = BinaryTreeNode(4)\n",
    "    node5 = BinaryTreeNode(5)\n",
    "    node1.left = node2\n",
    "    node1.right = node3\n",
    "    node2.left = node4\n",
    "    node2.right = node5\n",
    "\n",
    "\n",
    "    root = node1\n",
    "    return root\n",
    "\n",
    "root = buildTree()\n",
    "printTree_preorder(root)"
   ]
  },
  {
   "cell_type": "code",
   "execution_count": null,
   "metadata": {},
   "outputs": [],
   "source": []
  },
  {
   "cell_type": "code",
   "execution_count": null,
   "metadata": {},
   "outputs": [],
   "source": []
  }
 ],
 "metadata": {
  "kernelspec": {
   "display_name": "Python 3",
   "language": "python",
   "name": "python3"
  },
  "language_info": {
   "codemirror_mode": {
    "name": "ipython",
    "version": 3
   },
   "file_extension": ".py",
   "mimetype": "text/x-python",
   "name": "python",
   "nbconvert_exporter": "python",
   "pygments_lexer": "ipython3",
   "version": "3.7.1"
  }
 },
 "nbformat": 4,
 "nbformat_minor": 2
}
