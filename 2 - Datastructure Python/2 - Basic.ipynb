{
 "cells": [
  {
   "cell_type": "markdown",
   "metadata": {},
   "source": [
    "# Number is Prime # O(n)\n"
   ]
  },
  {
   "cell_type": "code",
   "execution_count": 8,
   "metadata": {},
   "outputs": [
    {
     "name": "stdout",
     "output_type": "stream",
     "text": [
      "11\n",
      "Prime\n"
     ]
    }
   ],
   "source": [
    "n = int(input())\n",
    "\n",
    "for i in range(2,n):\n",
    "    if n%i==0:\n",
    "        print('Not Prime')\n",
    "        break\n",
    "else: # will run only if for loop runs completely no breakage in b/w\n",
    "    print('Prime')"
   ]
  },
  {
   "cell_type": "markdown",
   "metadata": {},
   "source": [
    "# O(n^(1/2))\n"
   ]
  },
  {
   "cell_type": "code",
   "execution_count": 3,
   "metadata": {},
   "outputs": [
    {
     "name": "stdout",
     "output_type": "stream",
     "text": [
      "11\n",
      "Prime\n"
     ]
    }
   ],
   "source": [
    "n = int(input())\n",
    "import math\n",
    "\n",
    "x = int(math.sqrt(n)+1)\n",
    "for i in range(2,x):\n",
    "    if n%i==0:\n",
    "        print('Not Prime')\n",
    "        break\n",
    "else: \n",
    "    print('Prime')"
   ]
  },
  {
   "cell_type": "code",
   "execution_count": 10,
   "metadata": {},
   "outputs": [
    {
     "name": "stdout",
     "output_type": "stream",
     "text": [
      "0\n",
      "100\n",
      "20\n",
      "0\t-17\n",
      "20\t-6\n",
      "40\t4\n",
      "60\t15\n",
      "80\t26\n",
      "100\t37\n"
     ]
    }
   ],
   "source": [
    "# F to Celcius\n",
    "\n",
    "s = int(input())\n",
    "e = int(input())\n",
    "step = int(input())\n",
    "while s<=e:\n",
    "    result = int((5/9) *(s-32))\n",
    "    print(s,result,sep='\\t')\n",
    "    s+=step"
   ]
  },
  {
   "cell_type": "markdown",
   "metadata": {},
   "source": [
    "### Fibonacci Member\n",
    "Given a number N, figure out if it is a member of fibonacci series or not. Return true if the number is member of fibonacci series else false."
   ]
  },
  {
   "cell_type": "code",
   "execution_count": 2,
   "metadata": {},
   "outputs": [
    {
     "name": "stdout",
     "output_type": "stream",
     "text": [
      "11\n",
      "false\n"
     ]
    }
   ],
   "source": [
    "n = int(input())\n",
    "\n",
    "def isMember(n):\n",
    "    if n==0 or n==1:\n",
    "        return True\n",
    "    a = 1 \n",
    "    b = 1\n",
    "    \n",
    "    while(a<=n):\n",
    "        mid = a + b\n",
    "        a = b\n",
    "        b = mid\n",
    "        if mid == n:\n",
    "            return True\n",
    "    else:\n",
    "        return False\n",
    "\n",
    "if isMember(n):\n",
    "    print('true')\n",
    "else:\n",
    "    print('false')"
   ]
  },
  {
   "cell_type": "markdown",
   "metadata": {},
   "source": [
    "# Palindrome\n",
    "Write a program to determine if given number is palindrome or not. Print true if it is palindrome, false otherwise."
   ]
  },
  {
   "cell_type": "code",
   "execution_count": 5,
   "metadata": {},
   "outputs": [
    {
     "name": "stdout",
     "output_type": "stream",
     "text": [
      "12321\n",
      "true\n"
     ]
    }
   ],
   "source": [
    "n = input()\n",
    "def isPalindrome(n):\n",
    "    rev = n[::-1] \n",
    "    if rev == n:\n",
    "        return True\n",
    "    else:\n",
    "        return False\n",
    "    \n",
    "if isPalindrome(n):\n",
    "    print('true')\n",
    "else:\n",
    "    print('false')"
   ]
  },
  {
   "cell_type": "markdown",
   "metadata": {},
   "source": [
    "### Check Armstrong\n",
    "Write a Program to determine if the given number is Armstrong number or not. Print true if number is armstrong, otherwise print false.\n",
    "- An Armstrong number is a number (with digits n) such that the sum of its digits raised to nth power is equal to the number itself."
   ]
  },
  {
   "cell_type": "code",
   "execution_count": 10,
   "metadata": {},
   "outputs": [
    {
     "name": "stdout",
     "output_type": "stream",
     "text": [
      "371\n",
      "true\n"
     ]
    }
   ],
   "source": [
    "num = int(input())\n",
    "\n",
    "def isArm(num):\n",
    "    # digit count -  finding n\n",
    "    temp = num\n",
    "    digit_count = 0\n",
    "    while(temp>0):\n",
    "        digit_count += 1\n",
    "        temp //= 10\n",
    "    \n",
    "    # raising each digit to nth power and adding them\n",
    "    temp = num\n",
    "    summ = 0\n",
    "    while temp>0:\n",
    "        digit = temp%10\n",
    "        summ += digit**digit_count\n",
    "        temp //= 10\n",
    "    \n",
    "    # comaring and returning\n",
    "    return summ == num\n",
    "    \n",
    "if isArm(num):\n",
    "    print('true')\n",
    "else:\n",
    "    print('false')"
   ]
  },
  {
   "cell_type": "code",
   "execution_count": 102,
   "metadata": {},
   "outputs": [
    {
     "name": "stdout",
     "output_type": "stream",
     "text": [
      "5\n",
      "1\n",
      "2\n",
      "3\n",
      "4\n",
      "5\n",
      "['1', '2', '3', '4', '5']\n"
     ]
    }
   ],
   "source": [
    "# line seperated input\n",
    "n = int(input())\n",
    "li = []\n",
    "for i in range(n):\n",
    "    li.append(input())\n",
    "print(li)"
   ]
  },
  {
   "cell_type": "code",
   "execution_count": 107,
   "metadata": {},
   "outputs": [
    {
     "name": "stdout",
     "output_type": "stream",
     "text": [
      "5\n",
      "1 2 35 7 67\n"
     ]
    },
    {
     "data": {
      "text/plain": [
       "['1', '2', '35', '7', '67']"
      ]
     },
     "execution_count": 107,
     "metadata": {},
     "output_type": "execute_result"
    }
   ],
   "source": [
    "# space sepearated input\n",
    "n = int(input())\n",
    "li = [x for x in input().split()]\n",
    "li"
   ]
  },
  {
   "cell_type": "markdown",
   "metadata": {},
   "source": [
    "# Linear Search"
   ]
  },
  {
   "cell_type": "code",
   "execution_count": 154,
   "metadata": {},
   "outputs": [
    {
     "name": "stdout",
     "output_type": "stream",
     "text": [
      "5\n",
      "3 4 7 2 1\n",
      "4\n",
      "Element Found\n"
     ]
    }
   ],
   "source": [
    "n = int(input())\n",
    "l = [int(x) for x in input().split()]\n",
    "element_to_search = int(input())\n",
    "\n",
    "def linearSearch(l,ele):\n",
    "    for i in l:\n",
    "        if i == ele:\n",
    "            return True\n",
    "    else:\n",
    "        return False\n",
    "\n",
    "if linearSearch(l,element_to_search):\n",
    "    print('Element Found')\n",
    "else:\n",
    "    print('Element Not Found')"
   ]
  },
  {
   "cell_type": "markdown",
   "metadata": {},
   "source": [
    "# Reverse a list"
   ]
  },
  {
   "cell_type": "code",
   "execution_count": 158,
   "metadata": {},
   "outputs": [
    {
     "name": "stdout",
     "output_type": "stream",
     "text": [
      "[8, 7, 6, 5, 4, 3, 2, 1]\n"
     ]
    }
   ],
   "source": [
    "def rev(li):\n",
    "    for i in range(len(li)//2):\n",
    "        li[i],li[-i-1] = li[-i-1],li[i]\n",
    "        \n",
    "        \n",
    "li = [1,2,3,4,5,6,7,8]\n",
    "rev(li)\n",
    "print(li)"
   ]
  },
  {
   "cell_type": "markdown",
   "metadata": {},
   "source": [
    "## Swap Alternate\n",
    "Given an array of length N, swap every pair of alternate elements in the array.\n",
    "\n"
   ]
  },
  {
   "cell_type": "code",
   "execution_count": 179,
   "metadata": {},
   "outputs": [
    {
     "name": "stdout",
     "output_type": "stream",
     "text": [
      "[2, 1, 4, 3, 6]\n",
      "2 1 4 3 6\n",
      "[3, 2, 6, 5, 8, 7]\n",
      "3 2 6 5 8 7\n"
     ]
    }
   ],
   "source": [
    "li = [1,2,3,4,6]\n",
    "li2 = [2,3,5,6,7,8]\n",
    "\n",
    "def swap_alternate(li):\n",
    "    for i in range(1,len(li),2):\n",
    "        li[i],li[i-1] = li[i-1],li[i]\n",
    "\n",
    "swap_alternate(li)\n",
    "swap_alternate(li2)\n",
    "\n",
    "print(li)\n",
    "print(*li)# * use to unzip things with print function only\n",
    "\n",
    "print(li2)\n",
    "print(*li2)"
   ]
  },
  {
   "cell_type": "code",
   "execution_count": 178,
   "metadata": {},
   "outputs": [
    {
     "ename": "SyntaxError",
     "evalue": "can't use starred expression here (cell_name, line 4)",
     "output_type": "error",
     "traceback": [
      "\u001b[1;36m  File \u001b[1;32m\"cell_name\"\u001b[1;36m, line \u001b[1;32m4\u001b[0m\n\u001b[1;31mSyntaxError\u001b[0m\u001b[1;31m:\u001b[0m can't use starred expression here\n"
     ]
    }
   ],
   "source": [
    "*[1,2,3] # see withour print function"
   ]
  },
  {
   "cell_type": "code",
   "execution_count": 180,
   "metadata": {},
   "outputs": [
    {
     "name": "stdout",
     "output_type": "stream",
     "text": [
      "12 3 4\n"
     ]
    }
   ],
   "source": [
    "print(*[12,3,4])"
   ]
  },
  {
   "cell_type": "code",
   "execution_count": 181,
   "metadata": {},
   "outputs": [
    {
     "name": "stdout",
     "output_type": "stream",
     "text": [
      "1 2 3 4\n"
     ]
    }
   ],
   "source": [
    "print(*(1,2,3,4))"
   ]
  },
  {
   "cell_type": "code",
   "execution_count": 182,
   "metadata": {},
   "outputs": [
    {
     "name": "stdout",
     "output_type": "stream",
     "text": [
      "1 2 3 4 5 6 7\n"
     ]
    }
   ],
   "source": [
    "print(*{1,2,3,5,7,6,4,3,2,1})"
   ]
  },
  {
   "cell_type": "code",
   "execution_count": 183,
   "metadata": {},
   "outputs": [
    {
     "name": "stdout",
     "output_type": "stream",
     "text": [
      "1 2\n"
     ]
    }
   ],
   "source": [
    "print(*{1:'a', 2:'rt'})"
   ]
  },
  {
   "cell_type": "markdown",
   "metadata": {},
   "source": [
    "### Find Unique(using Xor , using frequency array,using dictionary)\n",
    "In array, N numbers are present twice and one number is present only once in the array. find that single"
   ]
  },
  {
   "cell_type": "code",
   "execution_count": 189,
   "metadata": {},
   "outputs": [
    {
     "name": "stdout",
     "output_type": "stream",
     "text": [
      "10\n"
     ]
    }
   ],
   "source": [
    "# using Xor\n",
    "li = [10,2,2,1,1,6,6,8,4,4,8]\n",
    "Xor = 0\n",
    "for i in li:\n",
    "    Xor ^= i\n",
    "print(Xor)"
   ]
  },
  {
   "cell_type": "code",
   "execution_count": 203,
   "metadata": {},
   "outputs": [
    {
     "name": "stdout",
     "output_type": "stream",
     "text": [
      "[10, 2, 1, 6, 8, 4]\n",
      "[1, 2, 2, 2, 2, 2]\n",
      "Unique Elements :  10\n"
     ]
    }
   ],
   "source": [
    "# using frequency array\n",
    "li = [10,2,2,1,1,6,6,8,4,4,8]\n",
    "ele_list = [] \n",
    "count_list = []\n",
    "\n",
    "for i in li:\n",
    "    if i in ele_list:\n",
    "        index = ele_list.index(i)\n",
    "        count_list[index]+=1\n",
    "    else:\n",
    "        ele_list.append(i)\n",
    "        count_list.append(1)\n",
    "        \n",
    "print(ele_list)\n",
    "print(count_list)\n",
    "\n",
    "\n",
    "length = len(count_list)\n",
    "for i in range(length):\n",
    "    if  count_list[i] == 1:\n",
    "        print('Unique Elements : ', ele_list[i])\n",
    "        break\n",
    "    "
   ]
  },
  {
   "cell_type": "code",
   "execution_count": 205,
   "metadata": {},
   "outputs": [
    {
     "name": "stdout",
     "output_type": "stream",
     "text": [
      "dictionary :  {10: 1, 2: 2, 1: 2, 6: 2, 8: 2, 4: 2}\n",
      "Unique Element :  10\n"
     ]
    }
   ],
   "source": [
    "# using dictionary\n",
    "li = [10,2,2,1,1,6,6,8,4,4,8]\n",
    "d = {}\n",
    "for i in li:\n",
    "    count_i = d.get(i,0) # returns 0 if not found\n",
    "    if count_i == 0:\n",
    "        d[i] = 1\n",
    "    else:\n",
    "        d[i] = count_i + 1\n",
    "print('dictionary : ' ,d)\n",
    "for i,j in d.items():\n",
    "    if j == 1:\n",
    "        print('Unique Element : ' , i)\n",
    "        "
   ]
  },
  {
   "cell_type": "code",
   "execution_count": null,
   "metadata": {},
   "outputs": [],
   "source": []
  },
  {
   "cell_type": "code",
   "execution_count": null,
   "metadata": {},
   "outputs": [],
   "source": []
  },
  {
   "cell_type": "markdown",
   "metadata": {},
   "source": [
    "#### Array intersection\n",
    "Given two random integer arrays of size m and n, print their intersection. That is, print all the elements that are present in both the given arrays"
   ]
  },
  {
   "cell_type": "code",
   "execution_count": 3,
   "metadata": {},
   "outputs": [
    {
     "name": "stdout",
     "output_type": "stream",
     "text": [
      "2\n",
      "3\n",
      "4\n"
     ]
    }
   ],
   "source": [
    "## Read input as specified in the question.\n",
    "## Print output as specified in the question.\n",
    "l1 =  [1,2,3,4]\n",
    "l2 = [2,3,4,5]\n",
    "for i in range(len(l1)):\n",
    "    for j in range(len(l2)):\n",
    "        if l1[i] == l2[j]:\n",
    "            print(l1[i])\n",
    "            l2[j] = -9999\n",
    "            break\n"
   ]
  },
  {
   "cell_type": "markdown",
   "metadata": {},
   "source": [
    "#### Pair sum\n",
    "Given a random integer array A and a number x. Find and print the pair of elements in the array which sum to x.\n",
    "Array A can contain duplicate elements.\n",
    "- While printing a pair, print the smaller element first. That is, if a valid pair is (6, 5) print \"5 6\"."
   ]
  },
  {
   "cell_type": "code",
   "execution_count": 11,
   "metadata": {},
   "outputs": [
    {
     "name": "stdout",
     "output_type": "stream",
     "text": [
      "1 6\n",
      "3 4\n",
      "3 4\n",
      "2 5\n",
      "2 5\n",
      "3 4\n",
      "3 4\n"
     ]
    }
   ],
   "source": [
    "li = [1, 3, 6, 2, 5, 4, 3, 2, 4]\n",
    "for i in range(len(li)):\n",
    "    for j in range(i+1,len(li)):\n",
    "        if li[i] + li[j] == summ :\n",
    "            if li[i]<=li[j]:\n",
    "                print(li[i],li[j])\n",
    "            else:\n",
    "                print(li[j],li[i])"
   ]
  },
  {
   "cell_type": "markdown",
   "metadata": {},
   "source": [
    "### Triplet Sum\n",
    "Given a random integer array and a number x. Find and print the triplets of elements in the array which sum to x.\n",
    "- While printing a triplet, print the smallest element first.\n",
    "That is, if a valid triplet is (6, 5, 10) print \"5 6 10\". There is no constraint that out of 5 triplets which have to be printed on 1st line."
   ]
  },
  {
   "cell_type": "code",
   "execution_count": 16,
   "metadata": {},
   "outputs": [
    {
     "name": "stdout",
     "output_type": "stream",
     "text": [
      "7\n",
      "1 2 3 4 5 6 7\n",
      "12\n",
      "1 4 7 \n",
      "1 5 6 \n",
      "2 3 7 \n",
      "2 4 6 \n",
      "3 4 5 \n"
     ]
    }
   ],
   "source": [
    "n = int(input())\n",
    "li = [int(x) for x in input().split()]\n",
    "summ = int(input())\n",
    "\n",
    "for i in range(len(li)):\n",
    "    for j in range(i+1, len(li)):\n",
    "        for k in range(j+1, len(li)):\n",
    "            if li[i] + li[j] + li[k] == summ:\n",
    "                temp = []\n",
    "                temp.append(li[i])\n",
    "                temp.append(li[j])\n",
    "                temp.append(li[k])\n",
    "                temp = sorted(temp)\n",
    "                for alpha in temp:\n",
    "                    print(alpha,end=' ')\n",
    "                print()"
   ]
  },
  {
   "cell_type": "markdown",
   "metadata": {},
   "source": [
    "#### Sort 0 1\n",
    "You are given an integer array A that contains only integers 0 and 1. Write a function to sort this array. Find a solution which scans the array only once. Don't use extra array.\n"
   ]
  },
  {
   "cell_type": "code",
   "execution_count": 18,
   "metadata": {},
   "outputs": [
    {
     "name": "stdout",
     "output_type": "stream",
     "text": [
      "7\n",
      "0 1 0 1 1 0 1\n",
      "0 0 0 1 1 1 1 \n"
     ]
    }
   ],
   "source": [
    "n = int(input())\n",
    "li = [int(x) for x in input().split()]\n",
    "\n",
    "zero_count = 0\n",
    "ones_count = 0\n",
    "\n",
    "for ele in li:\n",
    "    if ele == 0:\n",
    "        zero_count+=1\n",
    "    else:\n",
    "        ones_count+=1\n",
    "\n",
    "print('0 '*zero_count,end='')\n",
    "print('1 '*ones_count)\n"
   ]
  },
  {
   "cell_type": "code",
   "execution_count": null,
   "metadata": {},
   "outputs": [],
   "source": []
  },
  {
   "cell_type": "code",
   "execution_count": null,
   "metadata": {},
   "outputs": [],
   "source": []
  },
  {
   "cell_type": "code",
   "execution_count": null,
   "metadata": {},
   "outputs": [],
   "source": []
  },
  {
   "cell_type": "code",
   "execution_count": null,
   "metadata": {},
   "outputs": [],
   "source": []
  }
 ],
 "metadata": {
  "kernelspec": {
   "display_name": "Python 3",
   "language": "python",
   "name": "python3"
  },
  "language_info": {
   "codemirror_mode": {
    "name": "ipython",
    "version": 3
   },
   "file_extension": ".py",
   "mimetype": "text/x-python",
   "name": "python",
   "nbconvert_exporter": "python",
   "pygments_lexer": "ipython3",
   "version": "3.7.1"
  }
 },
 "nbformat": 4,
 "nbformat_minor": 2
}
