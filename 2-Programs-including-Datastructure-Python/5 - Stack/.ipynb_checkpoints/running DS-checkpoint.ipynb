{
 "cells": [
  {
   "cell_type": "code",
   "execution_count": 3,
   "metadata": {},
   "outputs": [],
   "source": [
    "\n",
    "class StackLL :\n",
    "\n",
    "    class Node : \n",
    "        def __init__(self,data):\n",
    "            self.data = data\n",
    "            self.next = None\n",
    "\n",
    "    def __init__(self):\n",
    "        self.head = None\n",
    "        self.count = 0\n",
    "\n",
    "    def push(self ,data):\n",
    "        # pushing at head is O(1) so pushing at head and then changing head\n",
    "        newNode = StackLL.Node(data)\n",
    "        if self.head == None :\n",
    "            self.head = newNode\n",
    "        else:\n",
    "            newNode.next = self.head\n",
    "            self.head = newNode\n",
    "        self.count += 1\n",
    "\n",
    "    def pop(self):\n",
    "\n",
    "        # poping from head is O(1) so poping at head and then changing head\n",
    "        if self.head == None:\n",
    "            return None\n",
    "        else :\n",
    "            data = self.head.data\n",
    "            self.head = self.head.next\n",
    "            self.count -= 1\n",
    "            return data\n",
    "\n",
    "    def top(self):\n",
    "        if self.head == None:\n",
    "            return None\n",
    "        else :\n",
    "            return self.head.data\n",
    "\n",
    "    def size(self):\n",
    "        return self.count\n",
    "\n",
    "    def isEmpty(self):\n",
    "        return self.count == 0\n"
   ]
  },
  {
   "cell_type": "code",
   "execution_count": 4,
   "metadata": {},
   "outputs": [
    {
     "name": "stdout",
     "output_type": "stream",
     "text": [
      "stack size is  4\n",
      "102\n",
      "2\n",
      "1\n",
      "12\n"
     ]
    }
   ],
   "source": [
    "s = StackLL()\n",
    "s.push(12)\n",
    "s.push(1)\n",
    "s.push(2)\n",
    "s.push(102)\n",
    "\n",
    "\n",
    "print('stack size is ', s.size())\n",
    "while not s.isEmpty():\n",
    "    print(s.top())\n",
    "    s.pop()\n",
    "    "
   ]
  },
  {
   "cell_type": "code",
   "execution_count": null,
   "metadata": {},
   "outputs": [],
   "source": []
  }
 ],
 "metadata": {
  "kernelspec": {
   "display_name": "Python 3",
   "language": "python",
   "name": "python3"
  },
  "language_info": {
   "codemirror_mode": {
    "name": "ipython",
    "version": 3
   },
   "file_extension": ".py",
   "mimetype": "text/x-python",
   "name": "python",
   "nbconvert_exporter": "python",
   "pygments_lexer": "ipython3",
   "version": "3.7.1"
  }
 },
 "nbformat": 4,
 "nbformat_minor": 2
}
